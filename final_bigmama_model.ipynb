{
 "cells": [
  {
   "cell_type": "markdown",
   "metadata": {},
   "source": [
    "# BIGmama recruitment project \n",
    "\n",
    "- To kickstart any project in Machine learnig we have to follow some steps to achieve the best result and get a model more accurate with the minimum of errors\n",
    "\n",
    "- The first step to start with is Data Preprocessiong:\n",
    "\n",
    "- For machine learning algorithms to work, it is necessary to convert the raw data into a clean data set and dataset must be converted to numeric data. You have to encode all the categorical lables to column vectors with binary values. Missing values or NaNs in the dataset is an annoying problem. You have to either drop the missing rows or fill them up with a mean or interpolated values..\n",
    "\n",
    "## Dataset\n",
    "- The file has a base of trainand of test. They include the history of ads (ad_id, format) displayed on mobile applications (support_type, support_id) to a user (user_id, device_id, device_model, device_type, device_os, device_language). The advertising company obtains these places by an auction system (of the Vickrey auction type), called RTB. Here is a small explanation of the meaning of some variables:\n",
    "\n",
    " \n",
    " **bid_floor**: minimum bet\n",
    " \n",
    " **won_price**: price at which the auction is won\n",
    " \n",
    " **bid_price**: price to which we put, format 10 ^ 11 cost per thousand impressions. In addition to this, you need to know more about it.\n",
    " \n",
    " **cpc_price**: indicates the cost per click (10 ^ 8 format), ie at what price the click is sold to the advertiser. In addition to this, you need to know more about it.\n",
    " \n",
    "**verticals_X**: are columns that refer to the \"ranking\" of the app, you can find information on the develop site of google (google search: verticals apps)\n",
    " \n",
    " **support_category**: is also a classification of support (site where ads are displayed). In addition to this, you need to know more about it.\n",
    "\n",
    " **viewability**: percentage of visibility (-1 if unknown)\n",
    " \n",
    " **position**: position of the ad on the page The objective is to find the probabilities for the column ***clicked***, omitted on purpose. The answer to the test is the code you wrote to find these probabilities.\n",
    " \n",
    " **Remarque:**\n",
    " - the columns **viewability**, **support_category**, and **cpc_price** don't exists in this Dataset\n",
    "\n",
    "## DATA PREPROCESSING \n",
    "\n",
    "- First step we should do is loading necessary packages "
   ]
  },
  {
   "cell_type": "code",
   "execution_count": 47,
   "metadata": {},
   "outputs": [],
   "source": [
    "# Laoding Packages \n",
    "import pandas as pd\n",
    "import numpy as np\n",
    "import matplotlib.pyplot as plt\n",
    "import tarfile \n",
    "import seaborn as sns\n",
    "##### \n",
    "import os\n"
   ]
  },
  {
   "cell_type": "markdown",
   "metadata": {},
   "source": [
    "- Because of the type of our Dataset in this task is tar.gz, We have to use the library of archieve file <a href=\"![image.png](attachment:image.png)\">Visit tarfile</a>\n",
    "\n",
    "\n"
   ]
  },
  {
   "cell_type": "code",
   "execution_count": 48,
   "metadata": {},
   "outputs": [],
   "source": [
    "tf = tarfile.open(r\"C:\\Users\\dell\\Downloads\\data.tar.gz\")"
   ]
  },
  {
   "cell_type": "code",
   "execution_count": 49,
   "metadata": {},
   "outputs": [],
   "source": [
    "tf.extractall(r\"C:\\Users\\dell\\Desktop\\projects\\Gitlab\\myfirstproject\")"
   ]
  },
  {
   "cell_type": "code",
   "execution_count": 50,
   "metadata": {},
   "outputs": [
    {
     "name": "stdout",
     "output_type": "stream",
     "text": [
      "C:\\Users\\dell\\Desktop\\projects\\Gitlab\\myfirstproject\n"
     ]
    }
   ],
   "source": [
    "%cd C:\\Users\\dell\\Desktop\\projects\\Gitlab\\myfirstproject\n"
   ]
  },
  {
   "cell_type": "code",
   "execution_count": 51,
   "metadata": {},
   "outputs": [
    {
     "name": "stderr",
     "output_type": "stream",
     "text": [
      "C:\\Users\\dell\\Anaconda3\\envs\\project_2020\\lib\\site-packages\\IPython\\core\\interactiveshell.py:3051: DtypeWarning: Columns (7) have mixed types. Specify dtype option on import or set low_memory=False.\n",
      "  interactivity=interactivity, compiler=compiler, result=result)\n"
     ]
    }
   ],
   "source": [
    "df_train = pd.read_csv(\"train\")\n",
    "df_test = pd.read_csv(\"test\")\n"
   ]
  },
  {
   "cell_type": "code",
   "execution_count": 52,
   "metadata": {},
   "outputs": [
    {
     "data": {
      "text/html": [
       "<div>\n",
       "<style scoped>\n",
       "    .dataframe tbody tr th:only-of-type {\n",
       "        vertical-align: middle;\n",
       "    }\n",
       "\n",
       "    .dataframe tbody tr th {\n",
       "        vertical-align: top;\n",
       "    }\n",
       "\n",
       "    .dataframe thead th {\n",
       "        text-align: right;\n",
       "    }\n",
       "</style>\n",
       "<table border=\"1\" class=\"dataframe\">\n",
       "  <thead>\n",
       "    <tr style=\"text-align: right;\">\n",
       "      <th></th>\n",
       "      <th>timestamp</th>\n",
       "      <th>bidid</th>\n",
       "      <th>device_id</th>\n",
       "      <th>user_id</th>\n",
       "      <th>format</th>\n",
       "      <th>bidfloor</th>\n",
       "      <th>support_type</th>\n",
       "      <th>support_id</th>\n",
       "      <th>device_type</th>\n",
       "      <th>device_os</th>\n",
       "      <th>device_language</th>\n",
       "      <th>device_model</th>\n",
       "      <th>verticals_0</th>\n",
       "      <th>verticals_1</th>\n",
       "      <th>verticals_2</th>\n",
       "      <th>vertical_3</th>\n",
       "      <th>ad_id</th>\n",
       "      <th>bid_price</th>\n",
       "      <th>won_price</th>\n",
       "      <th>clicked</th>\n",
       "    </tr>\n",
       "  </thead>\n",
       "  <tbody>\n",
       "    <tr>\n",
       "      <th>0</th>\n",
       "      <td>1430158023</td>\n",
       "      <td>VT56YgANZ5sK24hIAgB7+w==</td>\n",
       "      <td>a2304e2d-dd95-4431-a06e-9b976b83781f</td>\n",
       "      <td>CAESEJ5yQ9WDEoC_KMd3DzKeKl0</td>\n",
       "      <td>320x480</td>\n",
       "      <td>200000000</td>\n",
       "      <td>app</td>\n",
       "      <td>623367437</td>\n",
       "      <td>1</td>\n",
       "      <td>ios</td>\n",
       "      <td>fr_FR</td>\n",
       "      <td>iphone</td>\n",
       "      <td>1494</td>\n",
       "      <td>1462</td>\n",
       "      <td>105</td>\n",
       "      <td>937</td>\n",
       "      <td>544489</td>\n",
       "      <td>280000000</td>\n",
       "      <td>116000000</td>\n",
       "      <td>0</td>\n",
       "    </tr>\n",
       "    <tr>\n",
       "      <th>1</th>\n",
       "      <td>1430158024</td>\n",
       "      <td>VT56ZAAAeWMKNCwO6ABg+w==</td>\n",
       "      <td>fdef5b70-64c3-4afa-8e0e-8587bd4887e2</td>\n",
       "      <td>CAESEJ6WxEBHVaDXLlrXknLTCoA</td>\n",
       "      <td>320x480</td>\n",
       "      <td>1000000</td>\n",
       "      <td>app</td>\n",
       "      <td>353599677</td>\n",
       "      <td>1</td>\n",
       "      <td>ios</td>\n",
       "      <td>tr_TR</td>\n",
       "      <td>iphone</td>\n",
       "      <td>408</td>\n",
       "      <td>1462</td>\n",
       "      <td>1109</td>\n",
       "      <td>16</td>\n",
       "      <td>544489</td>\n",
       "      <td>280000000</td>\n",
       "      <td>195000000</td>\n",
       "      <td>0</td>\n",
       "    </tr>\n",
       "    <tr>\n",
       "      <th>2</th>\n",
       "      <td>1430158024</td>\n",
       "      <td>VT56ZAALt/oKG+GTGwB6sg==</td>\n",
       "      <td>db4cfc36-27f7-4e92-8201-d71d9b4d6cf7</td>\n",
       "      <td>CAESEPcNDSPNESnmoWp1Zck6j8A</td>\n",
       "      <td>320x480</td>\n",
       "      <td>199000000</td>\n",
       "      <td>app</td>\n",
       "      <td>911152486</td>\n",
       "      <td>1</td>\n",
       "      <td>ios</td>\n",
       "      <td>fr_FR</td>\n",
       "      <td>ipod</td>\n",
       "      <td>937</td>\n",
       "      <td>926</td>\n",
       "      <td>1462</td>\n",
       "      <td>1536</td>\n",
       "      <td>544489</td>\n",
       "      <td>280000000</td>\n",
       "      <td>241000000</td>\n",
       "      <td>0</td>\n",
       "    </tr>\n",
       "    <tr>\n",
       "      <th>3</th>\n",
       "      <td>1430158024</td>\n",
       "      <td>VT56ZAAMtH0KwmKp4AANng==</td>\n",
       "      <td>e113e09f-1899-4f97-94ac-00e243d8ef70</td>\n",
       "      <td>CAESELMvW0Vh_8Uwsio5w99n4qk</td>\n",
       "      <td>320x480</td>\n",
       "      <td>190000000</td>\n",
       "      <td>app</td>\n",
       "      <td>911793120</td>\n",
       "      <td>1</td>\n",
       "      <td>ios</td>\n",
       "      <td>fr_FR</td>\n",
       "      <td>iphone</td>\n",
       "      <td>937</td>\n",
       "      <td>1462</td>\n",
       "      <td>1536</td>\n",
       "      <td>1461</td>\n",
       "      <td>544489</td>\n",
       "      <td>280000000</td>\n",
       "      <td>137000000</td>\n",
       "      <td>0</td>\n",
       "    </tr>\n",
       "    <tr>\n",
       "      <th>4</th>\n",
       "      <td>1430158024</td>\n",
       "      <td>VT56ZAAOT5QKfN8IfAAieQ==</td>\n",
       "      <td>96653962-3033-476b-9dff-95d188f52d6d</td>\n",
       "      <td>CAESEKhcSWjJJHrkM-XAEDNaxgE</td>\n",
       "      <td>320x480</td>\n",
       "      <td>188000000</td>\n",
       "      <td>app</td>\n",
       "      <td>484115113</td>\n",
       "      <td>1</td>\n",
       "      <td>ios</td>\n",
       "      <td>fr_FR</td>\n",
       "      <td>iphone</td>\n",
       "      <td>61</td>\n",
       "      <td>13</td>\n",
       "      <td>299</td>\n",
       "      <td>0</td>\n",
       "      <td>544489</td>\n",
       "      <td>280000000</td>\n",
       "      <td>188000000</td>\n",
       "      <td>0</td>\n",
       "    </tr>\n",
       "  </tbody>\n",
       "</table>\n",
       "</div>"
      ],
      "text/plain": [
       "    timestamp                     bidid                             device_id  \\\n",
       "0  1430158023  VT56YgANZ5sK24hIAgB7+w==  a2304e2d-dd95-4431-a06e-9b976b83781f   \n",
       "1  1430158024  VT56ZAAAeWMKNCwO6ABg+w==  fdef5b70-64c3-4afa-8e0e-8587bd4887e2   \n",
       "2  1430158024  VT56ZAALt/oKG+GTGwB6sg==  db4cfc36-27f7-4e92-8201-d71d9b4d6cf7   \n",
       "3  1430158024  VT56ZAAMtH0KwmKp4AANng==  e113e09f-1899-4f97-94ac-00e243d8ef70   \n",
       "4  1430158024  VT56ZAAOT5QKfN8IfAAieQ==  96653962-3033-476b-9dff-95d188f52d6d   \n",
       "\n",
       "                       user_id   format   bidfloor support_type support_id  \\\n",
       "0  CAESEJ5yQ9WDEoC_KMd3DzKeKl0  320x480  200000000          app  623367437   \n",
       "1  CAESEJ6WxEBHVaDXLlrXknLTCoA  320x480    1000000          app  353599677   \n",
       "2  CAESEPcNDSPNESnmoWp1Zck6j8A  320x480  199000000          app  911152486   \n",
       "3  CAESELMvW0Vh_8Uwsio5w99n4qk  320x480  190000000          app  911793120   \n",
       "4  CAESEKhcSWjJJHrkM-XAEDNaxgE  320x480  188000000          app  484115113   \n",
       "\n",
       "   device_type device_os device_language device_model  verticals_0  \\\n",
       "0            1       ios           fr_FR       iphone         1494   \n",
       "1            1       ios           tr_TR       iphone          408   \n",
       "2            1       ios           fr_FR         ipod          937   \n",
       "3            1       ios           fr_FR       iphone          937   \n",
       "4            1       ios           fr_FR       iphone           61   \n",
       "\n",
       "   verticals_1  verticals_2  vertical_3   ad_id  bid_price  won_price  clicked  \n",
       "0         1462          105         937  544489  280000000  116000000        0  \n",
       "1         1462         1109          16  544489  280000000  195000000        0  \n",
       "2          926         1462        1536  544489  280000000  241000000        0  \n",
       "3         1462         1536        1461  544489  280000000  137000000        0  \n",
       "4           13          299           0  544489  280000000  188000000        0  "
      ]
     },
     "execution_count": 52,
     "metadata": {},
     "output_type": "execute_result"
    }
   ],
   "source": [
    "df_train.head()"
   ]
  },
  {
   "cell_type": "code",
   "execution_count": 53,
   "metadata": {},
   "outputs": [
    {
     "data": {
      "text/html": [
       "<div>\n",
       "<style scoped>\n",
       "    .dataframe tbody tr th:only-of-type {\n",
       "        vertical-align: middle;\n",
       "    }\n",
       "\n",
       "    .dataframe tbody tr th {\n",
       "        vertical-align: top;\n",
       "    }\n",
       "\n",
       "    .dataframe thead th {\n",
       "        text-align: right;\n",
       "    }\n",
       "</style>\n",
       "<table border=\"1\" class=\"dataframe\">\n",
       "  <thead>\n",
       "    <tr style=\"text-align: right;\">\n",
       "      <th></th>\n",
       "      <th>timestamp</th>\n",
       "      <th>bidid</th>\n",
       "      <th>device_id</th>\n",
       "      <th>user_id</th>\n",
       "      <th>format</th>\n",
       "      <th>bidfloor</th>\n",
       "      <th>support_type</th>\n",
       "      <th>support_id</th>\n",
       "      <th>device_type</th>\n",
       "      <th>device_os</th>\n",
       "      <th>device_language</th>\n",
       "      <th>device_model</th>\n",
       "      <th>verticals_0</th>\n",
       "      <th>verticals_1</th>\n",
       "      <th>verticals_2</th>\n",
       "      <th>vertical_3</th>\n",
       "      <th>ad_id</th>\n",
       "      <th>bid_price</th>\n",
       "      <th>won_price</th>\n",
       "    </tr>\n",
       "  </thead>\n",
       "  <tbody>\n",
       "    <tr>\n",
       "      <th>0</th>\n",
       "      <td>1430264861</td>\n",
       "      <td>VUAbtwAKfUwKG+JOugBfTw==</td>\n",
       "      <td>20189672-3ca0-48f8-957f-b2400005fea2</td>\n",
       "      <td>CAESEO1swnwzbyP_ulp5I6dwI9w</td>\n",
       "      <td>320x480</td>\n",
       "      <td>1000000</td>\n",
       "      <td>app</td>\n",
       "      <td>606697013</td>\n",
       "      <td>1</td>\n",
       "      <td>ios</td>\n",
       "      <td>en_EN</td>\n",
       "      <td>iphone</td>\n",
       "      <td>675</td>\n",
       "      <td>1462</td>\n",
       "      <td>0</td>\n",
       "      <td>0</td>\n",
       "      <td>544501</td>\n",
       "      <td>220000000</td>\n",
       "      <td>184000000</td>\n",
       "    </tr>\n",
       "    <tr>\n",
       "      <th>1</th>\n",
       "      <td>1430264862</td>\n",
       "      <td>VUAbuAANjzkKwo3v1AB++g==</td>\n",
       "      <td>8f46fac0-8893-4547-8ec7-028b4812057a</td>\n",
       "      <td>CAESEMgZsfgjSKT7GvZNAtFJaAs</td>\n",
       "      <td>320x480</td>\n",
       "      <td>1000000</td>\n",
       "      <td>app</td>\n",
       "      <td>905455244</td>\n",
       "      <td>1</td>\n",
       "      <td>ios</td>\n",
       "      <td>fr_FR</td>\n",
       "      <td>iphone</td>\n",
       "      <td>926</td>\n",
       "      <td>1462</td>\n",
       "      <td>1536</td>\n",
       "      <td>1071</td>\n",
       "      <td>544477</td>\n",
       "      <td>220000000</td>\n",
       "      <td>198000000</td>\n",
       "    </tr>\n",
       "    <tr>\n",
       "      <th>2</th>\n",
       "      <td>1430264862</td>\n",
       "      <td>VUAbuQAA39MKwuUk0wBMBQ==</td>\n",
       "      <td>692cb285-3ed0-4294-afda-fefb7a877238</td>\n",
       "      <td>CAESECYlSHMNcbKaLUtv2aXuBYw</td>\n",
       "      <td>320x480</td>\n",
       "      <td>197000000</td>\n",
       "      <td>app</td>\n",
       "      <td>623367437</td>\n",
       "      <td>1</td>\n",
       "      <td>ios</td>\n",
       "      <td>fr_FR</td>\n",
       "      <td>iphone</td>\n",
       "      <td>1494</td>\n",
       "      <td>1462</td>\n",
       "      <td>105</td>\n",
       "      <td>937</td>\n",
       "      <td>544501</td>\n",
       "      <td>220000000</td>\n",
       "      <td>197000000</td>\n",
       "    </tr>\n",
       "    <tr>\n",
       "      <th>3</th>\n",
       "      <td>1430264862</td>\n",
       "      <td>VUAbuQAB6HoKG+HGlQAW1w==</td>\n",
       "      <td>81f53cbd-0a22-4b94-87fb-8f3f4ef8148f</td>\n",
       "      <td>CAESEIM8HpwwPdYg_1FhZwa9sHo</td>\n",
       "      <td>320x480</td>\n",
       "      <td>198000000</td>\n",
       "      <td>app</td>\n",
       "      <td>911152486</td>\n",
       "      <td>1</td>\n",
       "      <td>ios</td>\n",
       "      <td>fr_FR</td>\n",
       "      <td>iphone</td>\n",
       "      <td>937</td>\n",
       "      <td>926</td>\n",
       "      <td>1462</td>\n",
       "      <td>1536</td>\n",
       "      <td>544501</td>\n",
       "      <td>220000000</td>\n",
       "      <td>208000000</td>\n",
       "    </tr>\n",
       "    <tr>\n",
       "      <th>4</th>\n",
       "      <td>1430264862</td>\n",
       "      <td>VUAbuQAJO6cKGxPLvQB1Sw==</td>\n",
       "      <td>cab4ae17-6b48-483e-ba68-ad49c8d944a0</td>\n",
       "      <td>CAESEK2HiR6F1ncLdKqp_F6vOF8</td>\n",
       "      <td>320x480</td>\n",
       "      <td>1000000</td>\n",
       "      <td>app</td>\n",
       "      <td>506916707</td>\n",
       "      <td>1</td>\n",
       "      <td>ios</td>\n",
       "      <td>en_EN</td>\n",
       "      <td>iphone</td>\n",
       "      <td>386</td>\n",
       "      <td>384</td>\n",
       "      <td>13</td>\n",
       "      <td>1379</td>\n",
       "      <td>544501</td>\n",
       "      <td>220000000</td>\n",
       "      <td>107000000</td>\n",
       "    </tr>\n",
       "  </tbody>\n",
       "</table>\n",
       "</div>"
      ],
      "text/plain": [
       "    timestamp                     bidid                             device_id  \\\n",
       "0  1430264861  VUAbtwAKfUwKG+JOugBfTw==  20189672-3ca0-48f8-957f-b2400005fea2   \n",
       "1  1430264862  VUAbuAANjzkKwo3v1AB++g==  8f46fac0-8893-4547-8ec7-028b4812057a   \n",
       "2  1430264862  VUAbuQAA39MKwuUk0wBMBQ==  692cb285-3ed0-4294-afda-fefb7a877238   \n",
       "3  1430264862  VUAbuQAB6HoKG+HGlQAW1w==  81f53cbd-0a22-4b94-87fb-8f3f4ef8148f   \n",
       "4  1430264862  VUAbuQAJO6cKGxPLvQB1Sw==  cab4ae17-6b48-483e-ba68-ad49c8d944a0   \n",
       "\n",
       "                       user_id   format   bidfloor support_type support_id  \\\n",
       "0  CAESEO1swnwzbyP_ulp5I6dwI9w  320x480    1000000          app  606697013   \n",
       "1  CAESEMgZsfgjSKT7GvZNAtFJaAs  320x480    1000000          app  905455244   \n",
       "2  CAESECYlSHMNcbKaLUtv2aXuBYw  320x480  197000000          app  623367437   \n",
       "3  CAESEIM8HpwwPdYg_1FhZwa9sHo  320x480  198000000          app  911152486   \n",
       "4  CAESEK2HiR6F1ncLdKqp_F6vOF8  320x480    1000000          app  506916707   \n",
       "\n",
       "   device_type device_os device_language device_model  verticals_0  \\\n",
       "0            1       ios           en_EN       iphone          675   \n",
       "1            1       ios           fr_FR       iphone          926   \n",
       "2            1       ios           fr_FR       iphone         1494   \n",
       "3            1       ios           fr_FR       iphone          937   \n",
       "4            1       ios           en_EN       iphone          386   \n",
       "\n",
       "   verticals_1  verticals_2  vertical_3   ad_id  bid_price  won_price  \n",
       "0         1462            0           0  544501  220000000  184000000  \n",
       "1         1462         1536        1071  544477  220000000  198000000  \n",
       "2         1462          105         937  544501  220000000  197000000  \n",
       "3          926         1462        1536  544501  220000000  208000000  \n",
       "4          384           13        1379  544501  220000000  107000000  "
      ]
     },
     "execution_count": 53,
     "metadata": {},
     "output_type": "execute_result"
    }
   ],
   "source": [
    "df_test.head()"
   ]
  },
  {
   "cell_type": "code",
   "execution_count": 54,
   "metadata": {},
   "outputs": [
    {
     "data": {
      "text/plain": [
       "(762239, 20)"
      ]
     },
     "execution_count": 54,
     "metadata": {},
     "output_type": "execute_result"
    }
   ],
   "source": [
    "df_train.shape"
   ]
  },
  {
   "cell_type": "code",
   "execution_count": 55,
   "metadata": {},
   "outputs": [
    {
     "name": "stdout",
     "output_type": "stream",
     "text": [
      "<class 'pandas.core.frame.DataFrame'>\n",
      "RangeIndex: 762239 entries, 0 to 762238\n",
      "Data columns (total 20 columns):\n",
      "timestamp          762239 non-null int64\n",
      "bidid              762239 non-null object\n",
      "device_id          762239 non-null object\n",
      "user_id            762239 non-null object\n",
      "format             762239 non-null object\n",
      "bidfloor           762239 non-null int64\n",
      "support_type       762239 non-null object\n",
      "support_id         762239 non-null object\n",
      "device_type        762239 non-null int64\n",
      "device_os          762239 non-null object\n",
      "device_language    762239 non-null object\n",
      "device_model       762239 non-null object\n",
      "verticals_0        762239 non-null int64\n",
      "verticals_1        762239 non-null int64\n",
      "verticals_2        762239 non-null int64\n",
      "vertical_3         762239 non-null int64\n",
      "ad_id              762239 non-null int64\n",
      "bid_price          762239 non-null int64\n",
      "won_price          762239 non-null int64\n",
      "clicked            762239 non-null int64\n",
      "dtypes: int64(11), object(9)\n",
      "memory usage: 116.3+ MB\n"
     ]
    }
   ],
   "source": [
    "df_train.info()"
   ]
  },
  {
   "cell_type": "code",
   "execution_count": 56,
   "metadata": {},
   "outputs": [
    {
     "data": {
      "text/plain": [
       "timestamp          0\n",
       "bidid              0\n",
       "device_id          0\n",
       "user_id            0\n",
       "format             0\n",
       "bidfloor           0\n",
       "support_type       0\n",
       "support_id         0\n",
       "device_type        0\n",
       "device_os          0\n",
       "device_language    0\n",
       "device_model       0\n",
       "verticals_0        0\n",
       "verticals_1        0\n",
       "verticals_2        0\n",
       "vertical_3         0\n",
       "ad_id              0\n",
       "bid_price          0\n",
       "won_price          0\n",
       "clicked            0\n",
       "dtype: int64"
      ]
     },
     "execution_count": 56,
     "metadata": {},
     "output_type": "execute_result"
    }
   ],
   "source": [
    "df_train.isnull().sum()"
   ]
  },
  {
   "cell_type": "code",
   "execution_count": 57,
   "metadata": {},
   "outputs": [
    {
     "data": {
      "text/html": [
       "<div>\n",
       "<style scoped>\n",
       "    .dataframe tbody tr th:only-of-type {\n",
       "        vertical-align: middle;\n",
       "    }\n",
       "\n",
       "    .dataframe tbody tr th {\n",
       "        vertical-align: top;\n",
       "    }\n",
       "\n",
       "    .dataframe thead th {\n",
       "        text-align: right;\n",
       "    }\n",
       "</style>\n",
       "<table border=\"1\" class=\"dataframe\">\n",
       "  <thead>\n",
       "    <tr style=\"text-align: right;\">\n",
       "      <th></th>\n",
       "      <th>timestamp</th>\n",
       "      <th>bidfloor</th>\n",
       "      <th>device_type</th>\n",
       "      <th>verticals_0</th>\n",
       "      <th>verticals_1</th>\n",
       "      <th>verticals_2</th>\n",
       "      <th>vertical_3</th>\n",
       "      <th>ad_id</th>\n",
       "      <th>bid_price</th>\n",
       "      <th>won_price</th>\n",
       "      <th>clicked</th>\n",
       "    </tr>\n",
       "  </thead>\n",
       "  <tbody>\n",
       "    <tr>\n",
       "      <th>count</th>\n",
       "      <td>7.622390e+05</td>\n",
       "      <td>7.622390e+05</td>\n",
       "      <td>762239.0</td>\n",
       "      <td>762239.000000</td>\n",
       "      <td>762239.000000</td>\n",
       "      <td>762239.000000</td>\n",
       "      <td>762239.000000</td>\n",
       "      <td>762239.000000</td>\n",
       "      <td>7.622390e+05</td>\n",
       "      <td>7.622390e+05</td>\n",
       "      <td>762239.000000</td>\n",
       "    </tr>\n",
       "    <tr>\n",
       "      <th>mean</th>\n",
       "      <td>1.430229e+09</td>\n",
       "      <td>1.067488e+08</td>\n",
       "      <td>1.0</td>\n",
       "      <td>788.308649</td>\n",
       "      <td>1111.929544</td>\n",
       "      <td>713.135761</td>\n",
       "      <td>702.995267</td>\n",
       "      <td>544489.029298</td>\n",
       "      <td>2.500813e+08</td>\n",
       "      <td>1.443431e+08</td>\n",
       "      <td>0.049660</td>\n",
       "    </tr>\n",
       "    <tr>\n",
       "      <th>std</th>\n",
       "      <td>2.473193e+04</td>\n",
       "      <td>8.546395e+07</td>\n",
       "      <td>0.0</td>\n",
       "      <td>586.138335</td>\n",
       "      <td>543.867729</td>\n",
       "      <td>651.297752</td>\n",
       "      <td>637.507384</td>\n",
       "      <td>9.675878</td>\n",
       "      <td>4.189227e+07</td>\n",
       "      <td>6.221850e+07</td>\n",
       "      <td>0.217242</td>\n",
       "    </tr>\n",
       "    <tr>\n",
       "      <th>min</th>\n",
       "      <td>1.430158e+09</td>\n",
       "      <td>1.000000e+06</td>\n",
       "      <td>1.0</td>\n",
       "      <td>0.000000</td>\n",
       "      <td>0.000000</td>\n",
       "      <td>0.000000</td>\n",
       "      <td>0.000000</td>\n",
       "      <td>544477.000000</td>\n",
       "      <td>2.000000e+08</td>\n",
       "      <td>-1.000000e+05</td>\n",
       "      <td>0.000000</td>\n",
       "    </tr>\n",
       "    <tr>\n",
       "      <th>25%</th>\n",
       "      <td>1.430219e+09</td>\n",
       "      <td>1.000000e+06</td>\n",
       "      <td>1.0</td>\n",
       "      <td>294.000000</td>\n",
       "      <td>926.000000</td>\n",
       "      <td>105.000000</td>\n",
       "      <td>0.000000</td>\n",
       "      <td>544477.000000</td>\n",
       "      <td>2.200000e+08</td>\n",
       "      <td>1.020000e+08</td>\n",
       "      <td>0.000000</td>\n",
       "    </tr>\n",
       "    <tr>\n",
       "      <th>50%</th>\n",
       "      <td>1.430234e+09</td>\n",
       "      <td>1.310000e+08</td>\n",
       "      <td>1.0</td>\n",
       "      <td>926.000000</td>\n",
       "      <td>1462.000000</td>\n",
       "      <td>439.000000</td>\n",
       "      <td>937.000000</td>\n",
       "      <td>544489.000000</td>\n",
       "      <td>2.200000e+08</td>\n",
       "      <td>1.390000e+08</td>\n",
       "      <td>0.000000</td>\n",
       "    </tr>\n",
       "    <tr>\n",
       "      <th>75%</th>\n",
       "      <td>1.430247e+09</td>\n",
       "      <td>1.890000e+08</td>\n",
       "      <td>1.0</td>\n",
       "      <td>937.000000</td>\n",
       "      <td>1462.000000</td>\n",
       "      <td>1462.000000</td>\n",
       "      <td>1461.000000</td>\n",
       "      <td>544501.000000</td>\n",
       "      <td>2.800000e+08</td>\n",
       "      <td>1.880000e+08</td>\n",
       "      <td>0.000000</td>\n",
       "    </tr>\n",
       "    <tr>\n",
       "      <th>max</th>\n",
       "      <td>1.430265e+09</td>\n",
       "      <td>3.440000e+08</td>\n",
       "      <td>1.0</td>\n",
       "      <td>5693.000000</td>\n",
       "      <td>5711.000000</td>\n",
       "      <td>5527.000000</td>\n",
       "      <td>5182.000000</td>\n",
       "      <td>544501.000000</td>\n",
       "      <td>3.600000e+08</td>\n",
       "      <td>3.600000e+08</td>\n",
       "      <td>1.000000</td>\n",
       "    </tr>\n",
       "  </tbody>\n",
       "</table>\n",
       "</div>"
      ],
      "text/plain": [
       "          timestamp      bidfloor  device_type    verticals_0    verticals_1  \\\n",
       "count  7.622390e+05  7.622390e+05     762239.0  762239.000000  762239.000000   \n",
       "mean   1.430229e+09  1.067488e+08          1.0     788.308649    1111.929544   \n",
       "std    2.473193e+04  8.546395e+07          0.0     586.138335     543.867729   \n",
       "min    1.430158e+09  1.000000e+06          1.0       0.000000       0.000000   \n",
       "25%    1.430219e+09  1.000000e+06          1.0     294.000000     926.000000   \n",
       "50%    1.430234e+09  1.310000e+08          1.0     926.000000    1462.000000   \n",
       "75%    1.430247e+09  1.890000e+08          1.0     937.000000    1462.000000   \n",
       "max    1.430265e+09  3.440000e+08          1.0    5693.000000    5711.000000   \n",
       "\n",
       "         verticals_2     vertical_3          ad_id     bid_price  \\\n",
       "count  762239.000000  762239.000000  762239.000000  7.622390e+05   \n",
       "mean      713.135761     702.995267  544489.029298  2.500813e+08   \n",
       "std       651.297752     637.507384       9.675878  4.189227e+07   \n",
       "min         0.000000       0.000000  544477.000000  2.000000e+08   \n",
       "25%       105.000000       0.000000  544477.000000  2.200000e+08   \n",
       "50%       439.000000     937.000000  544489.000000  2.200000e+08   \n",
       "75%      1462.000000    1461.000000  544501.000000  2.800000e+08   \n",
       "max      5527.000000    5182.000000  544501.000000  3.600000e+08   \n",
       "\n",
       "          won_price        clicked  \n",
       "count  7.622390e+05  762239.000000  \n",
       "mean   1.443431e+08       0.049660  \n",
       "std    6.221850e+07       0.217242  \n",
       "min   -1.000000e+05       0.000000  \n",
       "25%    1.020000e+08       0.000000  \n",
       "50%    1.390000e+08       0.000000  \n",
       "75%    1.880000e+08       0.000000  \n",
       "max    3.600000e+08       1.000000  "
      ]
     },
     "execution_count": 57,
     "metadata": {},
     "output_type": "execute_result"
    }
   ],
   "source": [
    "df_train.describe()"
   ]
  },
  {
   "cell_type": "code",
   "execution_count": 58,
   "metadata": {},
   "outputs": [
    {
     "data": {
      "text/plain": [
       "Index(['bidid', 'device_id', 'user_id', 'format', 'support_type', 'support_id',\n",
       "       'device_os', 'device_language', 'device_model'],\n",
       "      dtype='object')"
      ]
     },
     "execution_count": 58,
     "metadata": {},
     "output_type": "execute_result"
    }
   ],
   "source": [
    "categorical_features = df_train.select_dtypes(include =\"object\")\n",
    "categorical_features.columns "
   ]
  },
  {
   "cell_type": "code",
   "execution_count": 59,
   "metadata": {},
   "outputs": [
    {
     "data": {
      "text/plain": [
       "Index(['bidid', 'device_id', 'user_id', 'format', 'support_type', 'support_id',\n",
       "       'device_os', 'device_language', 'device_model'],\n",
       "      dtype='object')"
      ]
     },
     "execution_count": 59,
     "metadata": {},
     "output_type": "execute_result"
    }
   ],
   "source": [
    "numerical_feautes = df_train.select_dtypes(exclude=\"object\")\n",
    "categorical_features.columns "
   ]
  },
  {
   "cell_type": "code",
   "execution_count": 60,
   "metadata": {},
   "outputs": [
    {
     "data": {
      "text/plain": [
       "0    724386\n",
       "1     37853\n",
       "Name: clicked, dtype: int64"
      ]
     },
     "execution_count": 60,
     "metadata": {},
     "output_type": "execute_result"
    }
   ],
   "source": [
    "# Target variable \n",
    "df_train.clicked.value_counts()"
   ]
  },
  {
   "cell_type": "code",
   "execution_count": 61,
   "metadata": {},
   "outputs": [
    {
     "data": {
      "text/html": [
       "<div>\n",
       "<style scoped>\n",
       "    .dataframe tbody tr th:only-of-type {\n",
       "        vertical-align: middle;\n",
       "    }\n",
       "\n",
       "    .dataframe tbody tr th {\n",
       "        vertical-align: top;\n",
       "    }\n",
       "\n",
       "    .dataframe thead th {\n",
       "        text-align: right;\n",
       "    }\n",
       "</style>\n",
       "<table border=\"1\" class=\"dataframe\">\n",
       "  <thead>\n",
       "    <tr style=\"text-align: right;\">\n",
       "      <th></th>\n",
       "      <th>timestamp</th>\n",
       "      <th>bidid</th>\n",
       "      <th>device_id</th>\n",
       "      <th>user_id</th>\n",
       "      <th>format</th>\n",
       "      <th>bidfloor</th>\n",
       "      <th>support_type</th>\n",
       "      <th>support_id</th>\n",
       "      <th>device_type</th>\n",
       "      <th>device_os</th>\n",
       "      <th>device_language</th>\n",
       "      <th>device_model</th>\n",
       "      <th>verticals_0</th>\n",
       "      <th>verticals_1</th>\n",
       "      <th>verticals_2</th>\n",
       "      <th>vertical_3</th>\n",
       "      <th>ad_id</th>\n",
       "      <th>bid_price</th>\n",
       "      <th>won_price</th>\n",
       "      <th>clicked</th>\n",
       "    </tr>\n",
       "  </thead>\n",
       "  <tbody>\n",
       "    <tr>\n",
       "      <th>0</th>\n",
       "      <td>1430158023</td>\n",
       "      <td>VT56YgANZ5sK24hIAgB7+w==</td>\n",
       "      <td>a2304e2d-dd95-4431-a06e-9b976b83781f</td>\n",
       "      <td>CAESEJ5yQ9WDEoC_KMd3DzKeKl0</td>\n",
       "      <td>320x480</td>\n",
       "      <td>200000000</td>\n",
       "      <td>app</td>\n",
       "      <td>623367437</td>\n",
       "      <td>1</td>\n",
       "      <td>ios</td>\n",
       "      <td>fr_FR</td>\n",
       "      <td>iphone</td>\n",
       "      <td>1494</td>\n",
       "      <td>1462</td>\n",
       "      <td>105</td>\n",
       "      <td>937</td>\n",
       "      <td>544489</td>\n",
       "      <td>280000000</td>\n",
       "      <td>116000000</td>\n",
       "      <td>0</td>\n",
       "    </tr>\n",
       "    <tr>\n",
       "      <th>1</th>\n",
       "      <td>1430158024</td>\n",
       "      <td>VT56ZAAAeWMKNCwO6ABg+w==</td>\n",
       "      <td>fdef5b70-64c3-4afa-8e0e-8587bd4887e2</td>\n",
       "      <td>CAESEJ6WxEBHVaDXLlrXknLTCoA</td>\n",
       "      <td>320x480</td>\n",
       "      <td>1000000</td>\n",
       "      <td>app</td>\n",
       "      <td>353599677</td>\n",
       "      <td>1</td>\n",
       "      <td>ios</td>\n",
       "      <td>tr_TR</td>\n",
       "      <td>iphone</td>\n",
       "      <td>408</td>\n",
       "      <td>1462</td>\n",
       "      <td>1109</td>\n",
       "      <td>16</td>\n",
       "      <td>544489</td>\n",
       "      <td>280000000</td>\n",
       "      <td>195000000</td>\n",
       "      <td>0</td>\n",
       "    </tr>\n",
       "    <tr>\n",
       "      <th>2</th>\n",
       "      <td>1430158024</td>\n",
       "      <td>VT56ZAALt/oKG+GTGwB6sg==</td>\n",
       "      <td>db4cfc36-27f7-4e92-8201-d71d9b4d6cf7</td>\n",
       "      <td>CAESEPcNDSPNESnmoWp1Zck6j8A</td>\n",
       "      <td>320x480</td>\n",
       "      <td>199000000</td>\n",
       "      <td>app</td>\n",
       "      <td>911152486</td>\n",
       "      <td>1</td>\n",
       "      <td>ios</td>\n",
       "      <td>fr_FR</td>\n",
       "      <td>ipod</td>\n",
       "      <td>937</td>\n",
       "      <td>926</td>\n",
       "      <td>1462</td>\n",
       "      <td>1536</td>\n",
       "      <td>544489</td>\n",
       "      <td>280000000</td>\n",
       "      <td>241000000</td>\n",
       "      <td>0</td>\n",
       "    </tr>\n",
       "    <tr>\n",
       "      <th>3</th>\n",
       "      <td>1430158024</td>\n",
       "      <td>VT56ZAAMtH0KwmKp4AANng==</td>\n",
       "      <td>e113e09f-1899-4f97-94ac-00e243d8ef70</td>\n",
       "      <td>CAESELMvW0Vh_8Uwsio5w99n4qk</td>\n",
       "      <td>320x480</td>\n",
       "      <td>190000000</td>\n",
       "      <td>app</td>\n",
       "      <td>911793120</td>\n",
       "      <td>1</td>\n",
       "      <td>ios</td>\n",
       "      <td>fr_FR</td>\n",
       "      <td>iphone</td>\n",
       "      <td>937</td>\n",
       "      <td>1462</td>\n",
       "      <td>1536</td>\n",
       "      <td>1461</td>\n",
       "      <td>544489</td>\n",
       "      <td>280000000</td>\n",
       "      <td>137000000</td>\n",
       "      <td>0</td>\n",
       "    </tr>\n",
       "    <tr>\n",
       "      <th>4</th>\n",
       "      <td>1430158024</td>\n",
       "      <td>VT56ZAAOT5QKfN8IfAAieQ==</td>\n",
       "      <td>96653962-3033-476b-9dff-95d188f52d6d</td>\n",
       "      <td>CAESEKhcSWjJJHrkM-XAEDNaxgE</td>\n",
       "      <td>320x480</td>\n",
       "      <td>188000000</td>\n",
       "      <td>app</td>\n",
       "      <td>484115113</td>\n",
       "      <td>1</td>\n",
       "      <td>ios</td>\n",
       "      <td>fr_FR</td>\n",
       "      <td>iphone</td>\n",
       "      <td>61</td>\n",
       "      <td>13</td>\n",
       "      <td>299</td>\n",
       "      <td>0</td>\n",
       "      <td>544489</td>\n",
       "      <td>280000000</td>\n",
       "      <td>188000000</td>\n",
       "      <td>0</td>\n",
       "    </tr>\n",
       "  </tbody>\n",
       "</table>\n",
       "</div>"
      ],
      "text/plain": [
       "    timestamp                     bidid                             device_id  \\\n",
       "0  1430158023  VT56YgANZ5sK24hIAgB7+w==  a2304e2d-dd95-4431-a06e-9b976b83781f   \n",
       "1  1430158024  VT56ZAAAeWMKNCwO6ABg+w==  fdef5b70-64c3-4afa-8e0e-8587bd4887e2   \n",
       "2  1430158024  VT56ZAALt/oKG+GTGwB6sg==  db4cfc36-27f7-4e92-8201-d71d9b4d6cf7   \n",
       "3  1430158024  VT56ZAAMtH0KwmKp4AANng==  e113e09f-1899-4f97-94ac-00e243d8ef70   \n",
       "4  1430158024  VT56ZAAOT5QKfN8IfAAieQ==  96653962-3033-476b-9dff-95d188f52d6d   \n",
       "\n",
       "                       user_id   format   bidfloor support_type support_id  \\\n",
       "0  CAESEJ5yQ9WDEoC_KMd3DzKeKl0  320x480  200000000          app  623367437   \n",
       "1  CAESEJ6WxEBHVaDXLlrXknLTCoA  320x480    1000000          app  353599677   \n",
       "2  CAESEPcNDSPNESnmoWp1Zck6j8A  320x480  199000000          app  911152486   \n",
       "3  CAESELMvW0Vh_8Uwsio5w99n4qk  320x480  190000000          app  911793120   \n",
       "4  CAESEKhcSWjJJHrkM-XAEDNaxgE  320x480  188000000          app  484115113   \n",
       "\n",
       "   device_type device_os device_language device_model  verticals_0  \\\n",
       "0            1       ios           fr_FR       iphone         1494   \n",
       "1            1       ios           tr_TR       iphone          408   \n",
       "2            1       ios           fr_FR         ipod          937   \n",
       "3            1       ios           fr_FR       iphone          937   \n",
       "4            1       ios           fr_FR       iphone           61   \n",
       "\n",
       "   verticals_1  verticals_2  vertical_3   ad_id  bid_price  won_price  clicked  \n",
       "0         1462          105         937  544489  280000000  116000000        0  \n",
       "1         1462         1109          16  544489  280000000  195000000        0  \n",
       "2          926         1462        1536  544489  280000000  241000000        0  \n",
       "3         1462         1536        1461  544489  280000000  137000000        0  \n",
       "4           13          299           0  544489  280000000  188000000        0  "
      ]
     },
     "execution_count": 61,
     "metadata": {},
     "output_type": "execute_result"
    }
   ],
   "source": [
    "df_train.head()"
   ]
  },
  {
   "cell_type": "code",
   "execution_count": 62,
   "metadata": {},
   "outputs": [
    {
     "data": {
      "text/plain": [
       "app        762130\n",
       "website       109\n",
       "Name: support_type, dtype: int64"
      ]
     },
     "execution_count": 62,
     "metadata": {},
     "output_type": "execute_result"
    }
   ],
   "source": [
    "df_train.support_type.value_counts()"
   ]
  },
  {
   "cell_type": "code",
   "execution_count": 63,
   "metadata": {},
   "outputs": [
    {
     "data": {
      "text/plain": [
       "ios    762239\n",
       "Name: device_os, dtype: int64"
      ]
     },
     "execution_count": 63,
     "metadata": {},
     "output_type": "execute_result"
    }
   ],
   "source": [
    "df_train.device_os.value_counts()"
   ]
  },
  {
   "cell_type": "code",
   "execution_count": 64,
   "metadata": {},
   "outputs": [
    {
     "data": {
      "text/plain": [
       "fr_FR    729281\n",
       "en_EN     16055\n",
       "tr_TR      6714\n",
       "zh_CN      1409\n",
       "it_IT      1242\n",
       "nl_NL      1000\n",
       "pt_PT       936\n",
       "es_ES       910\n",
       "de_DE       897\n",
       "ru_RU       810\n",
       "ar_AR       679\n",
       "ro_RO       412\n",
       "ja_JA       247\n",
       "pl_PL       208\n",
       "ko_KO       192\n",
       "sv_SV       176\n",
       "th_TH       155\n",
       "no_NO        96\n",
       "zh_TW        94\n",
       "da_DA        93\n",
       "vi_VI        85\n",
       "iw_IW        85\n",
       "co_CO        58\n",
       "el_EL        52\n",
       "hr_HR        52\n",
       "uk_UK        49\n",
       "hy_HY        40\n",
       "bn_BN        39\n",
       "eu_EU        26\n",
       "ta_TA        24\n",
       "sq_SQ        17\n",
       "hu_HU        17\n",
       "ca_CA        13\n",
       "bs_BS        11\n",
       "cs_CS         9\n",
       "fa_FA         8\n",
       "km_KM         8\n",
       "fi_FI         7\n",
       "lo_LO         7\n",
       "sk_SK         5\n",
       "ka_KA         5\n",
       "br_BR         4\n",
       "mn_MN         2\n",
       "ne_NE         2\n",
       "yi_YI         1\n",
       "id_ID         1\n",
       "mg_MG         1\n",
       "ln_LN         1\n",
       "la_LA         1\n",
       "ht_HT         1\n",
       "ur_UR         1\n",
       "pa_PA         1\n",
       "Name: device_language, dtype: int64"
      ]
     },
     "execution_count": 64,
     "metadata": {},
     "output_type": "execute_result"
    }
   ],
   "source": [
    "df_train.device_language.value_counts()"
   ]
  },
  {
   "cell_type": "markdown",
   "metadata": {},
   "source": [
    "# Univariate Exploration \n",
    "\n",
    "- In this part we are going to extract information from each feature and attempt to determine its importance in predicting if it omitted or not \n",
    "- as the clicked column is the target data or the output data that we have to build our model on, let's begin by this important column \n",
    "\n",
    "**clicked**"
   ]
  },
  {
   "cell_type": "code",
   "execution_count": 65,
   "metadata": {},
   "outputs": [
    {
     "data": {
      "text/plain": [
       "<matplotlib.axes._subplots.AxesSubplot at 0x2821bf84ec8>"
      ]
     },
     "execution_count": 65,
     "metadata": {},
     "output_type": "execute_result"
    },
    {
     "data": {
      "image/png": "[encoded data removed]",
      "text/plain": [
       "<Figure size 360x288 with 1 Axes>"
      ]
     },
     "metadata": {
      "needs_background": "light"
     },
     "output_type": "display_data"
    }
   ],
   "source": [
    "plt.figure(figsize = (5,4))\n",
    "df_train.device_model.value_counts().plot(kind= \"bar\",rot = 0)"
   ]
  },
  {
   "cell_type": "code",
   "execution_count": 66,
   "metadata": {},
   "outputs": [
    {
     "data": {
      "text/plain": [
       "0    724386\n",
       "1     37853\n",
       "Name: clicked, dtype: int64"
      ]
     },
     "execution_count": 66,
     "metadata": {},
     "output_type": "execute_result"
    },
    {
     "data": {
      "image/png": "[encoded data removed]",
      "text/plain": [
       "<Figure size 504x360 with 1 Axes>"
      ]
     },
     "metadata": {
      "needs_background": "light"
     },
     "output_type": "display_data"
    }
   ],
   "source": [
    "# Target variable clicked\n",
    "plt.figure(figsize = (7,5))\n",
    "df_train.clicked.value_counts().plot(kind = \"bar\", rot = 0);\n",
    "plt.title('Class Distribuition by Omitted or not',fontsize=16);\n",
    "plt.xlabel('Omitted on purpose',fontsize=14)\n",
    "plt.ylabel('Count', fontsize=14)\n",
    "df_train.clicked.value_counts()"
   ]
  },
  {
   "cell_type": "markdown",
   "metadata": {},
   "source": [
    "- From the illustrations provided above it clear that the target column is a binary classification **(0,1)**, **omitted on purpose** or **not** \n"
   ]
  },
  {
   "cell_type": "code",
   "execution_count": 67,
   "metadata": {},
   "outputs": [
    {
     "data": {
      "text/plain": [
       "app        762130\n",
       "website       109\n",
       "Name: support_type, dtype: int64"
      ]
     },
     "execution_count": 67,
     "metadata": {},
     "output_type": "execute_result"
    },
    {
     "data": {
      "image/png": "[encoded data removed]",
      "text/plain": [
       "<Figure size 504x360 with 1 Axes>"
      ]
     },
     "metadata": {
      "needs_background": "light"
     },
     "output_type": "display_data"
    }
   ],
   "source": [
    "# support_type \n",
    "plt.figure(figsize = (7,5))\n",
    "df_train.support_type.value_counts().plot(kind = \"bar\", rot = 0);\n",
    "plt.title('Class Distribuition of support_type',fontsize=16);\n",
    "plt.xlabel('support_type',fontsize=14)\n",
    "plt.ylabel('Count', fontsize=14)\n",
    "df_train.support_type.value_counts()"
   ]
  },
  {
   "cell_type": "markdown",
   "metadata": {},
   "source": [
    "**device_os, device_type, format**"
   ]
  },
  {
   "cell_type": "code",
   "execution_count": 68,
   "metadata": {},
   "outputs": [
    {
     "name": "stdout",
     "output_type": "stream",
     "text": [
      "ios    762239\n",
      "Name: device_os, dtype: int64\n",
      "---------------------------------------\n",
      "1    762239\n",
      "Name: device_type, dtype: int64\n",
      "---------------------------------------\n",
      "320x480    762239\n",
      "Name: format, dtype: int64\n"
     ]
    }
   ],
   "source": [
    "print(df_train.device_os.value_counts())\n",
    "print(\"---------------------------------------\")\n",
    "print(df_train.device_type.value_counts())\n",
    "print(\"---------------------------------------\")\n",
    "print(df_train.format.value_counts())\n"
   ]
  },
  {
   "cell_type": "markdown",
   "metadata": {},
   "source": [
    "**Note:**\n",
    "In the above cell we can see that the column **device_os**, **device_type**, **format** have the same value within all the rows\n",
    "which means they have no effects in predicting our model, which means we can drop them later \n",
    "\n",
    "\n",
    "**device_midel**\n",
    " "
   ]
  },
  {
   "cell_type": "code",
   "execution_count": 69,
   "metadata": {},
   "outputs": [
    {
     "data": {
      "text/plain": [
       "iphone    707555\n",
       "ipod       54684\n",
       "Name: device_model, dtype: int64"
      ]
     },
     "execution_count": 69,
     "metadata": {},
     "output_type": "execute_result"
    },
    {
     "data": {
      "image/png": "[encoded data removed]",
      "text/plain": [
       "<Figure size 504x360 with 1 Axes>"
      ]
     },
     "metadata": {
      "needs_background": "light"
     },
     "output_type": "display_data"
    }
   ],
   "source": [
    "plt.figure(figsize = (7,5))\n",
    "df_train.device_model.value_counts().plot(kind = \"bar\", rot = 0);\n",
    "plt.title('Class Distribuition of device_model',fontsize=16);\n",
    "plt.xlabel('device_model',fontsize=14)\n",
    "plt.ylabel('Count', fontsize=14)\n",
    "df_train.device_model.value_counts()"
   ]
  },
  {
   "cell_type": "markdown",
   "metadata": {},
   "source": [
    "## Some Other Visualizations \n",
    "\n",
    "  **bid_price**"
   ]
  },
  {
   "cell_type": "code",
   "execution_count": 70,
   "metadata": {},
   "outputs": [
    {
     "data": {
      "text/plain": [
       "220000000    284734\n",
       "280000000    262587\n",
       "200000000     87243\n",
       "320000000     66127\n",
       "210000000     42071\n",
       "360000000     19477\n",
       "Name: bid_price, dtype: int64"
      ]
     },
     "execution_count": 70,
     "metadata": {},
     "output_type": "execute_result"
    },
    {
     "data": {
      "image/png": "[encoded data removed]",
      "text/plain": [
       "<Figure size 504x360 with 1 Axes>"
      ]
     },
     "metadata": {
      "needs_background": "light"
     },
     "output_type": "display_data"
    }
   ],
   "source": [
    "plt.figure(figsize = (7,5))\n",
    "df_train.bid_price.value_counts().plot(kind = \"bar\", rot = 0);\n",
    "plt.title('Class Distribuition of bid_price',fontsize=16);\n",
    "plt.xlabel('bid_price',fontsize=14)\n",
    "plt.ylabel('Count', fontsize=14)\n",
    "df_train.bid_price.value_counts()"
   ]
  },
  {
   "cell_type": "markdown",
   "metadata": {},
   "source": [
    "**ad_id**"
   ]
  },
  {
   "cell_type": "code",
   "execution_count": 71,
   "metadata": {},
   "outputs": [
    {
     "data": {
      "text/plain": [
       "220000000    284734\n",
       "280000000    262587\n",
       "200000000     87243\n",
       "320000000     66127\n",
       "210000000     42071\n",
       "360000000     19477\n",
       "Name: bid_price, dtype: int64"
      ]
     },
     "execution_count": 71,
     "metadata": {},
     "output_type": "execute_result"
    },
    {
     "data": {
      "image/png": "[encoded data removed]",
      "text/plain": [
       "<Figure size 504x360 with 1 Axes>"
      ]
     },
     "metadata": {
      "needs_background": "light"
     },
     "output_type": "display_data"
    }
   ],
   "source": [
    "plt.figure(figsize = (7,5))\n",
    "df_train.ad_id.value_counts().plot(kind = \"bar\", rot = 0);\n",
    "plt.title('Class Distribuition of ad_id',fontsize=16);\n",
    "plt.xlabel('ad_id',fontsize=14)\n",
    "plt.ylabel('Count', fontsize=14)\n",
    "df_train.bid_price.value_counts()"
   ]
  },
  {
   "cell_type": "markdown",
   "metadata": {},
   "source": [
    "**won_price**"
   ]
  },
  {
   "cell_type": "code",
   "execution_count": 72,
   "metadata": {},
   "outputs": [
    {
     "data": {
      "text/plain": [
       "Text(0.5, 1.0, 'won_price distrubtion')"
      ]
     },
     "execution_count": 72,
     "metadata": {},
     "output_type": "execute_result"
    },
    {
     "data": {
      "image/png": "[encoded data removed]",
      "text/plain": [
       "<Figure size 504x360 with 1 Axes>"
      ]
     },
     "metadata": {
      "needs_background": "light"
     },
     "output_type": "display_data"
    }
   ],
   "source": [
    "# won_price\n",
    "plt.figure(figsize = (7,5))\n",
    "df_train.won_price.plot(kind = \"hist\")\n",
    "plt.xlabel(\"won_price\")\n",
    "plt.title(\"won_price distrubtion\")"
   ]
  },
  {
   "cell_type": "markdown",
   "metadata": {},
   "source": [
    "- The **skewness** is a parameter to measure the symmetry of a data set and the **kurtosis** to measure how heavy its tails are compared to a normal distribution, see for example.\n"
   ]
  },
  {
   "cell_type": "code",
   "execution_count": 73,
   "metadata": {},
   "outputs": [
    {
     "name": "stdout",
     "output_type": "stream",
     "text": [
      "The skeweness is : 0.20781329479141752\n",
      "The kurtosis is : -0.383492237503126\n"
     ]
    }
   ],
   "source": [
    "# Calculate the skewness and the kurtosis of the feature won_price\n",
    "print(\"The skeweness is :\", df_train.won_price.skew())\n",
    "print(\"The kurtosis is :\", df_train.won_price.kurt())"
   ]
  },
  {
   "cell_type": "markdown",
   "metadata": {},
   "source": [
    "### Bivariate and Multivariate Exploration \n",
    "- First of all I prefer to begin by vertical columns and making comparison between them \n",
    "- let's plot their histograms and interpret the results\n",
    "  \n",
    "**Verticals**"
   ]
  },
  {
   "cell_type": "code",
   "execution_count": 74,
   "metadata": {},
   "outputs": [
    {
     "data": {
      "image/png": "[encoded data removed]",
      "text/plain": [
       "<Figure size 720x504 with 4 Axes>"
      ]
     },
     "metadata": {
      "needs_background": "light"
     },
     "output_type": "display_data"
    }
   ],
   "source": [
    "plt.figure(figsize= (10,7))\n",
    "plt.subplot(2,2,1)\n",
    "plt.hist(df_train.verticals_0)\n",
    "plt.xlabel(\"verticals_0\")\n",
    "\n",
    "plt.subplot(2,2,2)\n",
    "plt.hist(df_train.verticals_1)\n",
    "plt.xlabel(\"verticals_1\")\n",
    "\n",
    "plt.subplot(2,2,3)\n",
    "plt.hist(df_train.verticals_2)\n",
    "plt.xlabel(\"verticals_2\")\n",
    "\n",
    "plt.subplot(2,2,4)\n",
    "plt.hist(df_train.vertical_3)\n",
    "plt.xlabel(\"verticals_3\")\n",
    "\n",
    "plt.tight_layout()\n"
   ]
  },
  {
   "cell_type": "code",
   "execution_count": 75,
   "metadata": {},
   "outputs": [
    {
     "data": {
      "image/png": "[encoded data removed]",
      "text/plain": [
       "<Figure size 504x504 with 1 Axes>"
      ]
     },
     "metadata": {
      "needs_background": "light"
     },
     "output_type": "display_data"
    }
   ],
   "source": [
    "plt.figure(figsize = (7,7))\n",
    "boxplot = df_train.boxplot(column=['verticals_0', 'verticals_1', 'verticals_2','vertical_3'])"
   ]
  },
  {
   "cell_type": "markdown",
   "metadata": {},
   "source": [
    "**device_model & clicked** "
   ]
  },
  {
   "cell_type": "code",
   "execution_count": 76,
   "metadata": {},
   "outputs": [
    {
     "data": {
      "image/png": "[encoded data removed]",
      "text/plain": [
       "<Figure size 864x432 with 2 Axes>"
      ]
     },
     "metadata": {
      "needs_background": "light"
     },
     "output_type": "display_data"
    }
   ],
   "source": [
    "fig, axarr = plt.subplots(1, 2, figsize=(12,6))\n",
    "a = sns.countplot(df_train['device_model'], ax=axarr[0]).set_title('devices count by model')\n",
    "axarr[1].set_title('device rate by clicked')\n",
    "b = sns.barplot(x='device_model', y='clicked', data=df_train, ax=axarr[1]).set_ylabel('clicked rate')"
   ]
  },
  {
   "cell_type": "markdown",
   "metadata": {},
   "source": [
    "**bid_price & clicked**"
   ]
  },
  {
   "cell_type": "code",
   "execution_count": 77,
   "metadata": {},
   "outputs": [
    {
     "data": {
      "image/png": "[encoded data removed]",
      "text/plain": [
       "<Figure size 1152x432 with 2 Axes>"
      ]
     },
     "metadata": {
      "needs_background": "light"
     },
     "output_type": "display_data"
    }
   ],
   "source": [
    "fig, axarr = plt.subplots(1, 2, figsize=(16,6))\n",
    "a = sns.countplot(df_train['bid_price'], ax=axarr[0]).set_title('bid_price counts')\n",
    "axarr[1].set_title('bid_price rate by clicked')\n",
    "b = sns.barplot(x='bid_price', y='clicked', data=df_train, ax=axarr[1]).set_ylabel('clicked rate')"
   ]
  },
  {
   "cell_type": "markdown",
   "metadata": {},
   "source": [
    "**won_price & clicked**"
   ]
  },
  {
   "cell_type": "code",
   "execution_count": 78,
   "metadata": {},
   "outputs": [
    {
     "data": {
      "image/png": "[encoded data removed]",
      "text/plain": [
       "<Figure size 1152x432 with 2 Axes>"
      ]
     },
     "metadata": {
      "needs_background": "light"
     },
     "output_type": "display_data"
    }
   ],
   "source": [
    "fig, axarr = plt.subplots(1,2,figsize=(16,6))\n",
    "axarr[0].set_title('won_price distribution')\n",
    "f = sns.distplot(df_train['won_price'], color='g', bins=40, ax=axarr[0])\n",
    "axarr[1].set_title('won_price distribution for the two sub-clicked')\n",
    "g = sns.kdeplot(df_train['won_price'].loc[df_train['clicked'] == 1], \n",
    "                shade= True, ax=axarr[1], label='clicked').set_xlabel('won_price')\n",
    "g = sns.kdeplot(df_train['won_price'].loc[df_train['clicked'] == 0], \n",
    "                shade=True, ax=axarr[1], label='Not ommited')"
   ]
  },
  {
   "cell_type": "markdown",
   "metadata": {},
   "source": [
    "### Data Manipulation \n",
    "\n",
    "Because of the data doesn't contain missing values which means we don't have missing values heandling. As a first step I'm going to use one of the technics to convert categorical features to numerical features to prepare them for the modeling part  \n",
    "\n",
    "- Let's drop some useless features \n"
   ]
  },
  {
   "cell_type": "code",
   "execution_count": 79,
   "metadata": {},
   "outputs": [],
   "source": [
    "all_dat=[df_train,df_test]\n",
    "for dataset in all_dat:\n",
    "    drop_column = ['device_os','device_type','format','bidid','device_id','user_id','device_language','timestamp',\"support_id\",\"ad_id\"]\n",
    "    dataset.drop(drop_column, axis=1, inplace = True)"
   ]
  },
  {
   "cell_type": "code",
   "execution_count": 80,
   "metadata": {},
   "outputs": [
    {
     "data": {
      "text/html": [
       "<div>\n",
       "<style scoped>\n",
       "    .dataframe tbody tr th:only-of-type {\n",
       "        vertical-align: middle;\n",
       "    }\n",
       "\n",
       "    .dataframe tbody tr th {\n",
       "        vertical-align: top;\n",
       "    }\n",
       "\n",
       "    .dataframe thead th {\n",
       "        text-align: right;\n",
       "    }\n",
       "</style>\n",
       "<table border=\"1\" class=\"dataframe\">\n",
       "  <thead>\n",
       "    <tr style=\"text-align: right;\">\n",
       "      <th></th>\n",
       "      <th>bidfloor</th>\n",
       "      <th>support_type</th>\n",
       "      <th>device_model</th>\n",
       "      <th>verticals_0</th>\n",
       "      <th>verticals_1</th>\n",
       "      <th>verticals_2</th>\n",
       "      <th>vertical_3</th>\n",
       "      <th>bid_price</th>\n",
       "      <th>won_price</th>\n",
       "      <th>clicked</th>\n",
       "    </tr>\n",
       "  </thead>\n",
       "  <tbody>\n",
       "    <tr>\n",
       "      <th>0</th>\n",
       "      <td>200000000</td>\n",
       "      <td>app</td>\n",
       "      <td>iphone</td>\n",
       "      <td>1494</td>\n",
       "      <td>1462</td>\n",
       "      <td>105</td>\n",
       "      <td>937</td>\n",
       "      <td>280000000</td>\n",
       "      <td>116000000</td>\n",
       "      <td>0</td>\n",
       "    </tr>\n",
       "    <tr>\n",
       "      <th>1</th>\n",
       "      <td>1000000</td>\n",
       "      <td>app</td>\n",
       "      <td>iphone</td>\n",
       "      <td>408</td>\n",
       "      <td>1462</td>\n",
       "      <td>1109</td>\n",
       "      <td>16</td>\n",
       "      <td>280000000</td>\n",
       "      <td>195000000</td>\n",
       "      <td>0</td>\n",
       "    </tr>\n",
       "    <tr>\n",
       "      <th>2</th>\n",
       "      <td>199000000</td>\n",
       "      <td>app</td>\n",
       "      <td>ipod</td>\n",
       "      <td>937</td>\n",
       "      <td>926</td>\n",
       "      <td>1462</td>\n",
       "      <td>1536</td>\n",
       "      <td>280000000</td>\n",
       "      <td>241000000</td>\n",
       "      <td>0</td>\n",
       "    </tr>\n",
       "    <tr>\n",
       "      <th>3</th>\n",
       "      <td>190000000</td>\n",
       "      <td>app</td>\n",
       "      <td>iphone</td>\n",
       "      <td>937</td>\n",
       "      <td>1462</td>\n",
       "      <td>1536</td>\n",
       "      <td>1461</td>\n",
       "      <td>280000000</td>\n",
       "      <td>137000000</td>\n",
       "      <td>0</td>\n",
       "    </tr>\n",
       "    <tr>\n",
       "      <th>4</th>\n",
       "      <td>188000000</td>\n",
       "      <td>app</td>\n",
       "      <td>iphone</td>\n",
       "      <td>61</td>\n",
       "      <td>13</td>\n",
       "      <td>299</td>\n",
       "      <td>0</td>\n",
       "      <td>280000000</td>\n",
       "      <td>188000000</td>\n",
       "      <td>0</td>\n",
       "    </tr>\n",
       "  </tbody>\n",
       "</table>\n",
       "</div>"
      ],
      "text/plain": [
       "    bidfloor support_type device_model  verticals_0  verticals_1  verticals_2  \\\n",
       "0  200000000          app       iphone         1494         1462          105   \n",
       "1    1000000          app       iphone          408         1462         1109   \n",
       "2  199000000          app         ipod          937          926         1462   \n",
       "3  190000000          app       iphone          937         1462         1536   \n",
       "4  188000000          app       iphone           61           13          299   \n",
       "\n",
       "   vertical_3  bid_price  won_price  clicked  \n",
       "0         937  280000000  116000000        0  \n",
       "1          16  280000000  195000000        0  \n",
       "2        1536  280000000  241000000        0  \n",
       "3        1461  280000000  137000000        0  \n",
       "4           0  280000000  188000000        0  "
      ]
     },
     "execution_count": 80,
     "metadata": {},
     "output_type": "execute_result"
    }
   ],
   "source": [
    "#df_train.head()\n",
    "df_train.head()"
   ]
  },
  {
   "cell_type": "code",
   "execution_count": 81,
   "metadata": {},
   "outputs": [
    {
     "name": "stdout",
     "output_type": "stream",
     "text": [
      "The number of most important features we need to create the model is:  10\n"
     ]
    }
   ],
   "source": [
    "# The number of columns was reduced to 12 \n",
    "print(\"The number of most important features we need to create the model is: \", df_train.shape[1])"
   ]
  },
  {
   "cell_type": "markdown",
   "metadata": {},
   "source": [
    "### Encoding "
   ]
  },
  {
   "cell_type": "code",
   "execution_count": 82,
   "metadata": {},
   "outputs": [],
   "source": [
    "df_train = pd.get_dummies(df_train, columns = [\"support_type\",\"device_model\"])\n",
    "\n",
    "df_test = pd.get_dummies(df_test, columns = [\"support_type\",\"device_model\"])"
   ]
  },
  {
   "cell_type": "markdown",
   "metadata": {},
   "source": [
    "### Total Correlations Between the Features "
   ]
  },
  {
   "cell_type": "code",
   "execution_count": 83,
   "metadata": {},
   "outputs": [
    {
     "data": {
      "image/png": "[encoded data removed]",
      "text/plain": [
       "<Figure size 720x720 with 2 Axes>"
      ]
     },
     "metadata": {
      "needs_background": "light"
     },
     "output_type": "display_data"
    }
   ],
   "source": [
    "plt.figure(figsize = (10,10))\n",
    "corr_ = df_train.corr()\n",
    "sns.heatmap(corr_, annot = True,linewidths=.5,cmap=\"YlGnBu\");"
   ]
  },
  {
   "cell_type": "markdown",
   "metadata": {},
   "source": [
    "- Now from the above heatmap,we can see that the features are not much correlated. The highest correlation is between **verticals_2** and **vertical_3** i.e **0.53**. So we can carry on with all features.\n",
    "\n",
    "## Modeling\n",
    "\n",
    " - Now we are ready to train a model and predict the required solution. There are lot of predictive modelling algorithms to choose from. We must understand the type of problem and solution requirement to narrow down to a select few models which we can evaluate. Our problem is a classification and regression problem. We want to identify relationship between output (clicked) with other variables or features (verticals, won_price, device_model...). We are also perfoming a category of machine learning which is called supervised learning as we are training our model with a given dataset. With these two criteria - Supervised Learning plus Classification and Regression, we can narrow down our choice of models to a few. These include:\n",
    " \n",
    "\n",
    "Logistic Regression\n",
    " \n",
    " KNN\n",
    " \n",
    " Support Vector Machines\n",
    "\n",
    " Naive Bayes classifier\n",
    "\n",
    " Decision Tree\n",
    " \n",
    " Random Forrest\n",
    "\n",
    "Linear Discriminant Analysis\n",
    " \n",
    " Ada Boost Classifier\n",
    " \n",
    " Gradient Boosting Classifier\n",
    " \n",
    " And also compared above given classifiers and evaluate the mean accuracy of each of them by a stratified kfold cross validation procedure and plot accuracy based confusion matrix\n",
    " \n",
    " #**Note**\n",
    " - In the next part you'll see that I chose for the evaluation matrics cross validation because I see that the best one for our model and calculate the accuracy score after, we can use instead some other evaluation matrics like ROC anf AUC, RMSE...etc \n",
    "\n",
    "- Also to implement all this algorithms is going to be slow and harful to the CPU and GPU, so it would be better to use only one algorithm (linear regression)"
   ]
  },
  {
   "cell_type": "code",
   "execution_count": 84,
   "metadata": {},
   "outputs": [
    {
     "name": "stdout",
     "output_type": "stream",
     "text": [
      "<class 'pandas.core.frame.DataFrame'>\n",
      "RangeIndex: 762239 entries, 0 to 762238\n",
      "Data columns (total 12 columns):\n",
      "bidfloor                762239 non-null int64\n",
      "verticals_0             762239 non-null int64\n",
      "verticals_1             762239 non-null int64\n",
      "verticals_2             762239 non-null int64\n",
      "vertical_3              762239 non-null int64\n",
      "bid_price               762239 non-null int64\n",
      "won_price               762239 non-null int64\n",
      "clicked                 762239 non-null int64\n",
      "support_type_app        762239 non-null uint8\n",
      "support_type_website    762239 non-null uint8\n",
      "device_model_iphone     762239 non-null uint8\n",
      "device_model_ipod       762239 non-null uint8\n",
      "dtypes: int64(8), uint8(4)\n",
      "memory usage: 49.4 MB\n"
     ]
    }
   ],
   "source": [
    "df_train.info()"
   ]
  },
  {
   "cell_type": "code",
   "execution_count": 90,
   "metadata": {},
   "outputs": [
    {
     "data": {
      "text/html": [
       "<div>\n",
       "<style scoped>\n",
       "    .dataframe tbody tr th:only-of-type {\n",
       "        vertical-align: middle;\n",
       "    }\n",
       "\n",
       "    .dataframe tbody tr th {\n",
       "        vertical-align: top;\n",
       "    }\n",
       "\n",
       "    .dataframe thead th {\n",
       "        text-align: right;\n",
       "    }\n",
       "</style>\n",
       "<table border=\"1\" class=\"dataframe\">\n",
       "  <thead>\n",
       "    <tr style=\"text-align: right;\">\n",
       "      <th></th>\n",
       "      <th>bidfloor</th>\n",
       "      <th>verticals_0</th>\n",
       "      <th>verticals_1</th>\n",
       "      <th>verticals_2</th>\n",
       "      <th>vertical_3</th>\n",
       "      <th>bid_price</th>\n",
       "      <th>won_price</th>\n",
       "      <th>clicked</th>\n",
       "      <th>support_type_app</th>\n",
       "      <th>support_type_website</th>\n",
       "      <th>device_model_iphone</th>\n",
       "      <th>device_model_ipod</th>\n",
       "    </tr>\n",
       "  </thead>\n",
       "  <tbody>\n",
       "    <tr>\n",
       "      <th>0</th>\n",
       "      <td>200000000</td>\n",
       "      <td>1494</td>\n",
       "      <td>1462</td>\n",
       "      <td>105</td>\n",
       "      <td>937</td>\n",
       "      <td>280000000</td>\n",
       "      <td>116000000</td>\n",
       "      <td>0</td>\n",
       "      <td>1</td>\n",
       "      <td>0</td>\n",
       "      <td>1</td>\n",
       "      <td>0</td>\n",
       "    </tr>\n",
       "    <tr>\n",
       "      <th>1</th>\n",
       "      <td>1000000</td>\n",
       "      <td>408</td>\n",
       "      <td>1462</td>\n",
       "      <td>1109</td>\n",
       "      <td>16</td>\n",
       "      <td>280000000</td>\n",
       "      <td>195000000</td>\n",
       "      <td>0</td>\n",
       "      <td>1</td>\n",
       "      <td>0</td>\n",
       "      <td>1</td>\n",
       "      <td>0</td>\n",
       "    </tr>\n",
       "    <tr>\n",
       "      <th>2</th>\n",
       "      <td>199000000</td>\n",
       "      <td>937</td>\n",
       "      <td>926</td>\n",
       "      <td>1462</td>\n",
       "      <td>1536</td>\n",
       "      <td>280000000</td>\n",
       "      <td>241000000</td>\n",
       "      <td>0</td>\n",
       "      <td>1</td>\n",
       "      <td>0</td>\n",
       "      <td>0</td>\n",
       "      <td>1</td>\n",
       "    </tr>\n",
       "    <tr>\n",
       "      <th>3</th>\n",
       "      <td>190000000</td>\n",
       "      <td>937</td>\n",
       "      <td>1462</td>\n",
       "      <td>1536</td>\n",
       "      <td>1461</td>\n",
       "      <td>280000000</td>\n",
       "      <td>137000000</td>\n",
       "      <td>0</td>\n",
       "      <td>1</td>\n",
       "      <td>0</td>\n",
       "      <td>1</td>\n",
       "      <td>0</td>\n",
       "    </tr>\n",
       "    <tr>\n",
       "      <th>4</th>\n",
       "      <td>188000000</td>\n",
       "      <td>61</td>\n",
       "      <td>13</td>\n",
       "      <td>299</td>\n",
       "      <td>0</td>\n",
       "      <td>280000000</td>\n",
       "      <td>188000000</td>\n",
       "      <td>0</td>\n",
       "      <td>1</td>\n",
       "      <td>0</td>\n",
       "      <td>1</td>\n",
       "      <td>0</td>\n",
       "    </tr>\n",
       "  </tbody>\n",
       "</table>\n",
       "</div>"
      ],
      "text/plain": [
       "    bidfloor  verticals_0  verticals_1  verticals_2  vertical_3  bid_price  \\\n",
       "0  200000000         1494         1462          105         937  280000000   \n",
       "1    1000000          408         1462         1109          16  280000000   \n",
       "2  199000000          937          926         1462        1536  280000000   \n",
       "3  190000000          937         1462         1536        1461  280000000   \n",
       "4  188000000           61           13          299           0  280000000   \n",
       "\n",
       "   won_price  clicked  support_type_app  support_type_website  \\\n",
       "0  116000000        0                 1                     0   \n",
       "1  195000000        0                 1                     0   \n",
       "2  241000000        0                 1                     0   \n",
       "3  137000000        0                 1                     0   \n",
       "4  188000000        0                 1                     0   \n",
       "\n",
       "   device_model_iphone  device_model_ipod  \n",
       "0                    1                  0  \n",
       "1                    1                  0  \n",
       "2                    0                  1  \n",
       "3                    1                  0  \n",
       "4                    1                  0  "
      ]
     },
     "execution_count": 90,
     "metadata": {},
     "output_type": "execute_result"
    }
   ],
   "source": [
    "df_train.head()"
   ]
  },
  {
   "cell_type": "code",
   "execution_count": 85,
   "metadata": {},
   "outputs": [],
   "source": [
    "from sklearn.model_selection import train_test_split #for split the data\n",
    "from sklearn.metrics import accuracy_score  #for accuracy_score\n",
    "from sklearn.model_selection import KFold #for K-fold cross validation\n",
    "from sklearn.model_selection import cross_val_score #score evaluation\n",
    "from sklearn.model_selection import cross_val_predict #prediction\n",
    "from sklearn.metrics import confusion_matrix #for confusion matrix"
   ]
  },
  {
   "cell_type": "code",
   "execution_count": 86,
   "metadata": {},
   "outputs": [
    {
     "data": {
      "text/plain": [
       "((533567, 11), (228672, 11), (533567,), (228672,))"
      ]
     },
     "execution_count": 86,
     "metadata": {},
     "output_type": "execute_result"
    }
   ],
   "source": [
    "all_features = df_train.drop(\"clicked\",axis=1)\n",
    "Targeted_feature = df_train[\"clicked\"]\n",
    "X_train,X_test,y_train,y_test = train_test_split(all_features,Targeted_feature,test_size=0.3,random_state=42)\n",
    "X_train.shape,X_test.shape,y_train.shape,y_test.shape\n"
   ]
  },
  {
   "cell_type": "code",
   "execution_count": 87,
   "metadata": {},
   "outputs": [
    {
     "name": "stdout",
     "output_type": "stream",
     "text": [
      "--------------The Accuracy of the model----------------------------\n",
      "The accuracy of the Logistic Regression is 95.05\n",
      "The cross validated score for Logistic Regression is: 95.03\n"
     ]
    }
   ],
   "source": [
    "## Logistic Regression \n",
    "from sklearn.linear_model import LogisticRegression # Logistic Regression\n",
    "\n",
    "model = LogisticRegression()\n",
    "clf = model.fit(X_train,y_train)\n",
    "prediction_lr=clf.predict(X_test)\n",
    "print('--------------The Accuracy of the model----------------------------')\n",
    "print('The accuracy of the Logistic Regression is',round(accuracy_score(prediction_lr,y_test)*100,2))\n",
    "\n",
    "kfold = KFold(n_splits=10, random_state=22,shuffle=True) # k=10, split the data into 10 equal parts\n",
    "result_lr=cross_val_score(model,all_features,Targeted_feature,cv=10,scoring='accuracy')\n",
    "print('The cross validated score for Logistic Regression is:',round(result_lr.mean()*100,2))\n",
    "y_pred = cross_val_predict(model,all_features,Targeted_feature,cv=10)\n",
    "\n",
    "# sns.heatmap(confusion_matrix(Targeted_feature,y_pred),annot=True,fmt='3.0f',cmap=\"summer\")\n",
    "# plt.title('Confusion_matrix', y=1.05, size=15)\n",
    "#######################\n"
   ]
  },
  {
   "cell_type": "markdown",
   "metadata": {},
   "source": [
    "### Other examples to compare "
   ]
  },
  {
   "cell_type": "code",
   "execution_count": 88,
   "metadata": {},
   "outputs": [
    {
     "data": {
      "text/plain": [
       "' ##knn\\nfrom sklearn.neighbors import KNeighborsClassifier\\n\\n\\nmodel = KNeighborsClassifier(n_neighbors = 4)\\nmodel.fit(X_train,y_train)\\nprediction_knn=model.predict(X_test)\\nprint(\\'--------------The Accuracy of the model----------------------------\\')\\nprint(\\'The accuracy of the K Nearst Neighbors Classifier is\\',round(accuracy_score(prediction_knn,y_test)*100,2))\\nkfold = KFold(n_splits=10, random_state=22) # k=10, split the data into 10 equal parts\\nresult_knn=cross_val_score(model,all_features,Targeted_feature,cv=10,scoring=\\'accuracy\\')\\nprint(\\'The cross validated score for K Nearest Neighbors Classifier is:\\',round(result_knn.mean()*100,2))\\ny_pred = cross_val_predict(model,all_features,Targeted_feature,cv=10)\\nsns.heatmap(confusion_matrix(Targeted_feature,y_pred),annot=True,fmt=\\'3.0f\\',cmap=\"summer\")\\nplt.title(\\'Confusion_matrix\\', y=1.05, size=15)'"
      ]
     },
     "execution_count": 88,
     "metadata": {},
     "output_type": "execute_result"
    }
   ],
   "source": [
    "\n",
    "\"\"\"# Random Forests\n",
    "from sklearn.ensemble import RandomForestClassifier\n",
    "model = RandomForestClassifier(criterion='gini', n_estimators=700,\n",
    "                             min_samples_split=10,min_samples_leaf=1,\n",
    "                             max_features='auto',oob_score=True,\n",
    "                             random_state=1,n_jobs=-1)\n",
    "model.fit(X_train,y_train)\n",
    "prediction_rm=model.predict(X_test)\n",
    "print('--------------The Accuracy of the model----------------------------')\n",
    "print('The accuracy of the Random Forest Classifier is',round(accuracy_score(prediction_rm,y_test)*100,2))\n",
    "kfold = KFold(n_splits=10, random_state=22,shuffle = True) # k=10, split the data into 10 equal parts\n",
    "result_rm=cross_val_score(model,all_features,Targeted_feature,cv=10,scoring='accuracy')\n",
    "print('The cross validated score for Random Forest Classifier is:',round(result_rm.mean()*100,2))\n",
    "y_pred = cross_val_predict(model,all_features,Targeted_feature,cv=10)\n",
    "# sns.heatmap(confusion_matrix(Targeted_feature,y_pred),annot=True,fmt='3.0f',cmap=\"summer\")\n",
    "# plt.title('Confusion_matrix', y=1.05, size=15)\"\"\"\n",
    "\n",
    "\n",
    "# ## Support Vector Machine \n",
    "\n",
    "# In[ ]:\n",
    "\n",
    "\"\"\"\n",
    "from sklearn.svm import SVC, LinearSVC\n",
    "\n",
    "model = SVC()\n",
    "model.fit(X_train,y_train)\n",
    "prediction_svm=model.predict(X_test)\n",
    "print('--------------The Accuracy of the model----------------------------')\n",
    "print('The accuracy of the Support Vector Machines Classifier is',round(accuracy_score(prediction_svm,y_test)*100,2))\n",
    "kfold = KFold(n_splits=10, random_state=22,shuffle = True) # k=10, split the data into 10 equal parts\n",
    "result_svm=cross_val_score(model,all_features,Targeted_feature,cv=10,scoring='accuracy',gamma = \"auto\")\n",
    "print('The cross validated score for Support Vector Machines Classifier is:',round(result_svm.mean()*100,2))\n",
    "y_pred = cross_val_predict(model,all_features,Targeted_feature,cv=10)\n",
    "##sns.heatmap(confusion_matrix(Targeted_feature,y_pred),annot=True,fmt='3.0f',cmap=\"summer\")\n",
    "##plt.title('Confusion_matrix', y=1.05, size=15)\"\"\"\n",
    "\n",
    "\n",
    "# In[ ]:\n",
    "\n",
    "\n",
    "\"\"\" ##knn\n",
    "from sklearn.neighbors import KNeighborsClassifier\n",
    "\n",
    "\n",
    "model = KNeighborsClassifier(n_neighbors = 4)\n",
    "model.fit(X_train,y_train)\n",
    "prediction_knn=model.predict(X_test)\n",
    "print('--------------The Accuracy of the model----------------------------')\n",
    "print('The accuracy of the K Nearst Neighbors Classifier is',round(accuracy_score(prediction_knn,y_test)*100,2))\n",
    "kfold = KFold(n_splits=10, random_state=22) # k=10, split the data into 10 equal parts\n",
    "result_knn=cross_val_score(model,all_features,Targeted_feature,cv=10,scoring='accuracy')\n",
    "print('The cross validated score for K Nearest Neighbors Classifier is:',round(result_knn.mean()*100,2))\n",
    "y_pred = cross_val_predict(model,all_features,Targeted_feature,cv=10)\n",
    "sns.heatmap(confusion_matrix(Targeted_feature,y_pred),annot=True,fmt='3.0f',cmap=\"summer\")\n",
    "plt.title('Confusion_matrix', y=1.05, size=15)\"\"\"\n",
    "\n"
   ]
  },
  {
   "cell_type": "code",
   "execution_count": 89,
   "metadata": {},
   "outputs": [],
   "source": [
    "import pickle\n",
    "pickle.dump(clf, open('final_prediction.pickle', 'wb'))"
   ]
  }
 ],
 "metadata": {
  "kernelspec": {
   "display_name": "Python 3",
   "language": "python",
   "name": "python3"
  },
  "language_info": {
   "codemirror_mode": {
    "name": "ipython",
    "version": 3
   },
   "file_extension": ".py",
   "mimetype": "text/x-python",
   "name": "python",
   "nbconvert_exporter": "python",
   "pygments_lexer": "ipython3",
   "version": "3.7.6"
  }
 },
 "nbformat": 4,
 "nbformat_minor": 2
}