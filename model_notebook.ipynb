{
 "metadata": {
  "language_info": {
   "codemirror_mode": {
    "name": "ipython",
    "version": 3
   },
   "file_extension": ".py",
   "mimetype": "text/x-python",
   "name": "python",
   "nbconvert_exporter": "python",
   "pygments_lexer": "ipython3",
   "version": "3.7.6-final"
  },
  "orig_nbformat": 2,
  "kernelspec": {
   "name": "python3",
   "display_name": "Python 3.7.6 64-bit ('project_2020': conda)",
   "metadata": {
    "interpreter": {
     "hash": "6f848ccf7260eb02631bda4039246508ed7cd9b667a4a2d0b5afa28ad32f46a7"
    }
   }
  }
 },
 "nbformat": 4,
 "nbformat_minor": 2,
 "cells": [
  {
   "cell_type": "code",
   "execution_count": 3,
   "metadata": {},
   "outputs": [],
   "source": [
    "import pandas as pd\n",
    "import numpy as np\n",
    "import matplotlib.pyplot as plt\n",
    "import tarfile "
   ]
  },
  {
   "cell_type": "code",
   "execution_count": 5,
   "metadata": {},
   "outputs": [],
   "source": [
    "tf = tarfile.open(r\"C:\\Users\\dell\\Downloads\\data.tar.gz\")"
   ]
  },
  {
   "cell_type": "code",
   "execution_count": 9,
   "metadata": {},
   "outputs": [],
   "source": [
    "tf.extractall(r\"C:\\Users\\dell\\Desktop\\projects\\Gitlab\\myfirstproject\")"
   ]
  },
  {
   "cell_type": "code",
   "execution_count": 10,
   "metadata": {},
   "outputs": [
    {
     "output_type": "stream",
     "name": "stdout",
     "text": [
      "C:\\Users\\dell\\Desktop\\projects\\Gitlab\\myfirstproject\n"
     ]
    }
   ],
   "source": [
    "%cd C:\\Users\\dell\\Desktop\\projects\\Gitlab\\myfirstproject\n"
   ]
  },
  {
   "cell_type": "code",
   "execution_count": 15,
   "metadata": {},
   "outputs": [],
   "source": [
    "df_train = pd.read_csv(\"train\")\n",
    "df_test = pd.read_csv(\"test\")\n"
   ]
  },
  {
   "cell_type": "code",
   "execution_count": 16,
   "metadata": {},
   "outputs": [
    {
     "output_type": "execute_result",
     "data": {
      "text/plain": [
       "    timestamp                     bidid                             device_id  \\\n",
       "0  1430158023  VT56YgANZ5sK24hIAgB7+w==  a2304e2d-dd95-4431-a06e-9b976b83781f   \n",
       "1  1430158024  VT56ZAAAeWMKNCwO6ABg+w==  fdef5b70-64c3-4afa-8e0e-8587bd4887e2   \n",
       "2  1430158024  VT56ZAALt/oKG+GTGwB6sg==  db4cfc36-27f7-4e92-8201-d71d9b4d6cf7   \n",
       "3  1430158024  VT56ZAAMtH0KwmKp4AANng==  e113e09f-1899-4f97-94ac-00e243d8ef70   \n",
       "4  1430158024  VT56ZAAOT5QKfN8IfAAieQ==  96653962-3033-476b-9dff-95d188f52d6d   \n",
       "\n",
       "                       user_id   format   bidfloor support_type support_id  \\\n",
       "0  CAESEJ5yQ9WDEoC_KMd3DzKeKl0  320x480  200000000          app  623367437   \n",
       "1  CAESEJ6WxEBHVaDXLlrXknLTCoA  320x480    1000000          app  353599677   \n",
       "2  CAESEPcNDSPNESnmoWp1Zck6j8A  320x480  199000000          app  911152486   \n",
       "3  CAESELMvW0Vh_8Uwsio5w99n4qk  320x480  190000000          app  911793120   \n",
       "4  CAESEKhcSWjJJHrkM-XAEDNaxgE  320x480  188000000          app  484115113   \n",
       "\n",
       "   device_type device_os device_language device_model  verticals_0  \\\n",
       "0            1       ios           fr_FR       iphone         1494   \n",
       "1            1       ios           tr_TR       iphone          408   \n",
       "2            1       ios           fr_FR         ipod          937   \n",
       "3            1       ios           fr_FR       iphone          937   \n",
       "4            1       ios           fr_FR       iphone           61   \n",
       "\n",
       "   verticals_1  verticals_2  vertical_3   ad_id  bid_price  won_price  clicked  \n",
       "0         1462          105         937  544489  280000000  116000000        0  \n",
       "1         1462         1109          16  544489  280000000  195000000        0  \n",
       "2          926         1462        1536  544489  280000000  241000000        0  \n",
       "3         1462         1536        1461  544489  280000000  137000000        0  \n",
       "4           13          299           0  544489  280000000  188000000        0  "
      ],
      "text/html": "<div>\n<style scoped>\n    .dataframe tbody tr th:only-of-type {\n        vertical-align: middle;\n    }\n\n    .dataframe tbody tr th {\n        vertical-align: top;\n    }\n\n    .dataframe thead th {\n        text-align: right;\n    }\n</style>\n<table border=\"1\" class=\"dataframe\">\n  <thead>\n    <tr style=\"text-align: right;\">\n      <th></th>\n      <th>timestamp</th>\n      <th>bidid</th>\n      <th>device_id</th>\n      <th>user_id</th>\n      <th>format</th>\n      <th>bidfloor</th>\n      <th>support_type</th>\n      <th>support_id</th>\n      <th>device_type</th>\n      <th>device_os</th>\n      <th>device_language</th>\n      <th>device_model</th>\n      <th>verticals_0</th>\n      <th>verticals_1</th>\n      <th>verticals_2</th>\n      <th>vertical_3</th>\n      <th>ad_id</th>\n      <th>bid_price</th>\n      <th>won_price</th>\n      <th>clicked</th>\n    </tr>\n  </thead>\n  <tbody>\n    <tr>\n      <th>0</th>\n      <td>1430158023</td>\n      <td>VT56YgANZ5sK24hIAgB7+w==</td>\n      <td>a2304e2d-dd95-4431-a06e-9b976b83781f</td>\n      <td>CAESEJ5yQ9WDEoC_KMd3DzKeKl0</td>\n      <td>320x480</td>\n      <td>200000000</td>\n      <td>app</td>\n      <td>623367437</td>\n      <td>1</td>\n      <td>ios</td>\n      <td>fr_FR</td>\n      <td>iphone</td>\n      <td>1494</td>\n      <td>1462</td>\n      <td>105</td>\n      <td>937</td>\n      <td>544489</td>\n      <td>280000000</td>\n      <td>116000000</td>\n      <td>0</td>\n    </tr>\n    <tr>\n      <th>1</th>\n      <td>1430158024</td>\n      <td>VT56ZAAAeWMKNCwO6ABg+w==</td>\n      <td>fdef5b70-64c3-4afa-8e0e-8587bd4887e2</td>\n      <td>CAESEJ6WxEBHVaDXLlrXknLTCoA</td>\n      <td>320x480</td>\n      <td>1000000</td>\n      <td>app</td>\n      <td>353599677</td>\n      <td>1</td>\n      <td>ios</td>\n      <td>tr_TR</td>\n      <td>iphone</td>\n      <td>408</td>\n      <td>1462</td>\n      <td>1109</td>\n      <td>16</td>\n      <td>544489</td>\n      <td>280000000</td>\n      <td>195000000</td>\n      <td>0</td>\n    </tr>\n    <tr>\n      <th>2</th>\n      <td>1430158024</td>\n      <td>VT56ZAALt/oKG+GTGwB6sg==</td>\n      <td>db4cfc36-27f7-4e92-8201-d71d9b4d6cf7</td>\n      <td>CAESEPcNDSPNESnmoWp1Zck6j8A</td>\n      <td>320x480</td>\n      <td>199000000</td>\n      <td>app</td>\n      <td>911152486</td>\n      <td>1</td>\n      <td>ios</td>\n      <td>fr_FR</td>\n      <td>ipod</td>\n      <td>937</td>\n      <td>926</td>\n      <td>1462</td>\n      <td>1536</td>\n      <td>544489</td>\n      <td>280000000</td>\n      <td>241000000</td>\n      <td>0</td>\n    </tr>\n    <tr>\n      <th>3</th>\n      <td>1430158024</td>\n      <td>VT56ZAAMtH0KwmKp4AANng==</td>\n      <td>e113e09f-1899-4f97-94ac-00e243d8ef70</td>\n      <td>CAESELMvW0Vh_8Uwsio5w99n4qk</td>\n      <td>320x480</td>\n      <td>190000000</td>\n      <td>app</td>\n      <td>911793120</td>\n      <td>1</td>\n      <td>ios</td>\n      <td>fr_FR</td>\n      <td>iphone</td>\n      <td>937</td>\n      <td>1462</td>\n      <td>1536</td>\n      <td>1461</td>\n      <td>544489</td>\n      <td>280000000</td>\n      <td>137000000</td>\n      <td>0</td>\n    </tr>\n    <tr>\n      <th>4</th>\n      <td>1430158024</td>\n      <td>VT56ZAAOT5QKfN8IfAAieQ==</td>\n      <td>96653962-3033-476b-9dff-95d188f52d6d</td>\n      <td>CAESEKhcSWjJJHrkM-XAEDNaxgE</td>\n      <td>320x480</td>\n      <td>188000000</td>\n      <td>app</td>\n      <td>484115113</td>\n      <td>1</td>\n      <td>ios</td>\n      <td>fr_FR</td>\n      <td>iphone</td>\n      <td>61</td>\n      <td>13</td>\n      <td>299</td>\n      <td>0</td>\n      <td>544489</td>\n      <td>280000000</td>\n      <td>188000000</td>\n      <td>0</td>\n    </tr>\n  </tbody>\n</table>\n</div>"
     },
     "metadata": {},
     "execution_count": 16
    }
   ],
   "source": [
    "df_train.head()"
   ]
  },
  {
   "cell_type": "code",
   "execution_count": 39,
   "metadata": {},
   "outputs": [
    {
     "output_type": "execute_result",
     "data": {
      "text/plain": [
       "    timestamp                     bidid                             device_id  \\\n",
       "0  1430264861  VUAbtwAKfUwKG+JOugBfTw==  20189672-3ca0-48f8-957f-b2400005fea2   \n",
       "1  1430264862  VUAbuAANjzkKwo3v1AB++g==  8f46fac0-8893-4547-8ec7-028b4812057a   \n",
       "2  1430264862  VUAbuQAA39MKwuUk0wBMBQ==  692cb285-3ed0-4294-afda-fefb7a877238   \n",
       "3  1430264862  VUAbuQAB6HoKG+HGlQAW1w==  81f53cbd-0a22-4b94-87fb-8f3f4ef8148f   \n",
       "4  1430264862  VUAbuQAJO6cKGxPLvQB1Sw==  cab4ae17-6b48-483e-ba68-ad49c8d944a0   \n",
       "\n",
       "                       user_id   format   bidfloor support_type support_id  \\\n",
       "0  CAESEO1swnwzbyP_ulp5I6dwI9w  320x480    1000000          app  606697013   \n",
       "1  CAESEMgZsfgjSKT7GvZNAtFJaAs  320x480    1000000          app  905455244   \n",
       "2  CAESECYlSHMNcbKaLUtv2aXuBYw  320x480  197000000          app  623367437   \n",
       "3  CAESEIM8HpwwPdYg_1FhZwa9sHo  320x480  198000000          app  911152486   \n",
       "4  CAESEK2HiR6F1ncLdKqp_F6vOF8  320x480    1000000          app  506916707   \n",
       "\n",
       "   device_type device_os device_language device_model  verticals_0  \\\n",
       "0            1       ios           en_EN       iphone          675   \n",
       "1            1       ios           fr_FR       iphone          926   \n",
       "2            1       ios           fr_FR       iphone         1494   \n",
       "3            1       ios           fr_FR       iphone          937   \n",
       "4            1       ios           en_EN       iphone          386   \n",
       "\n",
       "   verticals_1  verticals_2  vertical_3   ad_id  bid_price  won_price  \n",
       "0         1462            0           0  544501  220000000  184000000  \n",
       "1         1462         1536        1071  544477  220000000  198000000  \n",
       "2         1462          105         937  544501  220000000  197000000  \n",
       "3          926         1462        1536  544501  220000000  208000000  \n",
       "4          384           13        1379  544501  220000000  107000000  "
      ],
      "text/html": "<div>\n<style scoped>\n    .dataframe tbody tr th:only-of-type {\n        vertical-align: middle;\n    }\n\n    .dataframe tbody tr th {\n        vertical-align: top;\n    }\n\n    .dataframe thead th {\n        text-align: right;\n    }\n</style>\n<table border=\"1\" class=\"dataframe\">\n  <thead>\n    <tr style=\"text-align: right;\">\n      <th></th>\n      <th>timestamp</th>\n      <th>bidid</th>\n      <th>device_id</th>\n      <th>user_id</th>\n      <th>format</th>\n      <th>bidfloor</th>\n      <th>support_type</th>\n      <th>support_id</th>\n      <th>device_type</th>\n      <th>device_os</th>\n      <th>device_language</th>\n      <th>device_model</th>\n      <th>verticals_0</th>\n      <th>verticals_1</th>\n      <th>verticals_2</th>\n      <th>vertical_3</th>\n      <th>ad_id</th>\n      <th>bid_price</th>\n      <th>won_price</th>\n    </tr>\n  </thead>\n  <tbody>\n    <tr>\n      <th>0</th>\n      <td>1430264861</td>\n      <td>VUAbtwAKfUwKG+JOugBfTw==</td>\n      <td>20189672-3ca0-48f8-957f-b2400005fea2</td>\n      <td>CAESEO1swnwzbyP_ulp5I6dwI9w</td>\n      <td>320x480</td>\n      <td>1000000</td>\n      <td>app</td>\n      <td>606697013</td>\n      <td>1</td>\n      <td>ios</td>\n      <td>en_EN</td>\n      <td>iphone</td>\n      <td>675</td>\n      <td>1462</td>\n      <td>0</td>\n      <td>0</td>\n      <td>544501</td>\n      <td>220000000</td>\n      <td>184000000</td>\n    </tr>\n    <tr>\n      <th>1</th>\n      <td>1430264862</td>\n      <td>VUAbuAANjzkKwo3v1AB++g==</td>\n      <td>8f46fac0-8893-4547-8ec7-028b4812057a</td>\n      <td>CAESEMgZsfgjSKT7GvZNAtFJaAs</td>\n      <td>320x480</td>\n      <td>1000000</td>\n      <td>app</td>\n      <td>905455244</td>\n      <td>1</td>\n      <td>ios</td>\n      <td>fr_FR</td>\n      <td>iphone</td>\n      <td>926</td>\n      <td>1462</td>\n      <td>1536</td>\n      <td>1071</td>\n      <td>544477</td>\n      <td>220000000</td>\n      <td>198000000</td>\n    </tr>\n    <tr>\n      <th>2</th>\n      <td>1430264862</td>\n      <td>VUAbuQAA39MKwuUk0wBMBQ==</td>\n      <td>692cb285-3ed0-4294-afda-fefb7a877238</td>\n      <td>CAESECYlSHMNcbKaLUtv2aXuBYw</td>\n      <td>320x480</td>\n      <td>197000000</td>\n      <td>app</td>\n      <td>623367437</td>\n      <td>1</td>\n      <td>ios</td>\n      <td>fr_FR</td>\n      <td>iphone</td>\n      <td>1494</td>\n      <td>1462</td>\n      <td>105</td>\n      <td>937</td>\n      <td>544501</td>\n      <td>220000000</td>\n      <td>197000000</td>\n    </tr>\n    <tr>\n      <th>3</th>\n      <td>1430264862</td>\n      <td>VUAbuQAB6HoKG+HGlQAW1w==</td>\n      <td>81f53cbd-0a22-4b94-87fb-8f3f4ef8148f</td>\n      <td>CAESEIM8HpwwPdYg_1FhZwa9sHo</td>\n      <td>320x480</td>\n      <td>198000000</td>\n      <td>app</td>\n      <td>911152486</td>\n      <td>1</td>\n      <td>ios</td>\n      <td>fr_FR</td>\n      <td>iphone</td>\n      <td>937</td>\n      <td>926</td>\n      <td>1462</td>\n      <td>1536</td>\n      <td>544501</td>\n      <td>220000000</td>\n      <td>208000000</td>\n    </tr>\n    <tr>\n      <th>4</th>\n      <td>1430264862</td>\n      <td>VUAbuQAJO6cKGxPLvQB1Sw==</td>\n      <td>cab4ae17-6b48-483e-ba68-ad49c8d944a0</td>\n      <td>CAESEK2HiR6F1ncLdKqp_F6vOF8</td>\n      <td>320x480</td>\n      <td>1000000</td>\n      <td>app</td>\n      <td>506916707</td>\n      <td>1</td>\n      <td>ios</td>\n      <td>en_EN</td>\n      <td>iphone</td>\n      <td>386</td>\n      <td>384</td>\n      <td>13</td>\n      <td>1379</td>\n      <td>544501</td>\n      <td>220000000</td>\n      <td>107000000</td>\n    </tr>\n  </tbody>\n</table>\n</div>"
     },
     "metadata": {},
     "execution_count": 39
    }
   ],
   "source": [
    "df_test.head()"
   ]
  },
  {
   "cell_type": "code",
   "execution_count": 17,
   "metadata": {},
   "outputs": [
    {
     "output_type": "execute_result",
     "data": {
      "text/plain": [
       "(762239, 20)"
      ]
     },
     "metadata": {},
     "execution_count": 17
    }
   ],
   "source": [
    "df_train.shape"
   ]
  },
  {
   "cell_type": "code",
   "execution_count": 18,
   "metadata": {},
   "outputs": [
    {
     "output_type": "stream",
     "name": "stdout",
     "text": [
      "<class 'pandas.core.frame.DataFrame'>\nRangeIndex: 762239 entries, 0 to 762238\nData columns (total 20 columns):\ntimestamp          762239 non-null int64\nbidid              762239 non-null object\ndevice_id          762239 non-null object\nuser_id            762239 non-null object\nformat             762239 non-null object\nbidfloor           762239 non-null int64\nsupport_type       762239 non-null object\nsupport_id         762239 non-null object\ndevice_type        762239 non-null int64\ndevice_os          762239 non-null object\ndevice_language    762239 non-null object\ndevice_model       762239 non-null object\nverticals_0        762239 non-null int64\nverticals_1        762239 non-null int64\nverticals_2        762239 non-null int64\nvertical_3         762239 non-null int64\nad_id              762239 non-null int64\nbid_price          762239 non-null int64\nwon_price          762239 non-null int64\nclicked            762239 non-null int64\ndtypes: int64(11), object(9)\nmemory usage: 116.3+ MB\n"
     ]
    }
   ],
   "source": [
    "df_train.info()"
   ]
  },
  {
   "cell_type": "code",
   "execution_count": 19,
   "metadata": {},
   "outputs": [
    {
     "output_type": "execute_result",
     "data": {
      "text/plain": [
       "timestamp          0\n",
       "bidid              0\n",
       "device_id          0\n",
       "user_id            0\n",
       "format             0\n",
       "bidfloor           0\n",
       "support_type       0\n",
       "support_id         0\n",
       "device_type        0\n",
       "device_os          0\n",
       "device_language    0\n",
       "device_model       0\n",
       "verticals_0        0\n",
       "verticals_1        0\n",
       "verticals_2        0\n",
       "vertical_3         0\n",
       "ad_id              0\n",
       "bid_price          0\n",
       "won_price          0\n",
       "clicked            0\n",
       "dtype: int64"
      ]
     },
     "metadata": {},
     "execution_count": 19
    }
   ],
   "source": [
    "df_train.isnull().sum()"
   ]
  },
  {
   "cell_type": "code",
   "execution_count": 20,
   "metadata": {},
   "outputs": [
    {
     "output_type": "execute_result",
     "data": {
      "text/plain": [
       "          timestamp      bidfloor  device_type    verticals_0    verticals_1  \\\n",
       "count  7.622390e+05  7.622390e+05     762239.0  762239.000000  762239.000000   \n",
       "mean   1.430229e+09  1.067488e+08          1.0     788.308649    1111.929544   \n",
       "std    2.473193e+04  8.546395e+07          0.0     586.138335     543.867729   \n",
       "min    1.430158e+09  1.000000e+06          1.0       0.000000       0.000000   \n",
       "25%    1.430219e+09  1.000000e+06          1.0     294.000000     926.000000   \n",
       "50%    1.430234e+09  1.310000e+08          1.0     926.000000    1462.000000   \n",
       "75%    1.430247e+09  1.890000e+08          1.0     937.000000    1462.000000   \n",
       "max    1.430265e+09  3.440000e+08          1.0    5693.000000    5711.000000   \n",
       "\n",
       "         verticals_2     vertical_3          ad_id     bid_price  \\\n",
       "count  762239.000000  762239.000000  762239.000000  7.622390e+05   \n",
       "mean      713.135761     702.995267  544489.029298  2.500813e+08   \n",
       "std       651.297752     637.507384       9.675878  4.189227e+07   \n",
       "min         0.000000       0.000000  544477.000000  2.000000e+08   \n",
       "25%       105.000000       0.000000  544477.000000  2.200000e+08   \n",
       "50%       439.000000     937.000000  544489.000000  2.200000e+08   \n",
       "75%      1462.000000    1461.000000  544501.000000  2.800000e+08   \n",
       "max      5527.000000    5182.000000  544501.000000  3.600000e+08   \n",
       "\n",
       "          won_price        clicked  \n",
       "count  7.622390e+05  762239.000000  \n",
       "mean   1.443431e+08       0.049660  \n",
       "std    6.221850e+07       0.217242  \n",
       "min   -1.000000e+05       0.000000  \n",
       "25%    1.020000e+08       0.000000  \n",
       "50%    1.390000e+08       0.000000  \n",
       "75%    1.880000e+08       0.000000  \n",
       "max    3.600000e+08       1.000000  "
      ],
      "text/html": "<div>\n<style scoped>\n    .dataframe tbody tr th:only-of-type {\n        vertical-align: middle;\n    }\n\n    .dataframe tbody tr th {\n        vertical-align: top;\n    }\n\n    .dataframe thead th {\n        text-align: right;\n    }\n</style>\n<table border=\"1\" class=\"dataframe\">\n  <thead>\n    <tr style=\"text-align: right;\">\n      <th></th>\n      <th>timestamp</th>\n      <th>bidfloor</th>\n      <th>device_type</th>\n      <th>verticals_0</th>\n      <th>verticals_1</th>\n      <th>verticals_2</th>\n      <th>vertical_3</th>\n      <th>ad_id</th>\n      <th>bid_price</th>\n      <th>won_price</th>\n      <th>clicked</th>\n    </tr>\n  </thead>\n  <tbody>\n    <tr>\n      <th>count</th>\n      <td>7.622390e+05</td>\n      <td>7.622390e+05</td>\n      <td>762239.0</td>\n      <td>762239.000000</td>\n      <td>762239.000000</td>\n      <td>762239.000000</td>\n      <td>762239.000000</td>\n      <td>762239.000000</td>\n      <td>7.622390e+05</td>\n      <td>7.622390e+05</td>\n      <td>762239.000000</td>\n    </tr>\n    <tr>\n      <th>mean</th>\n      <td>1.430229e+09</td>\n      <td>1.067488e+08</td>\n      <td>1.0</td>\n      <td>788.308649</td>\n      <td>1111.929544</td>\n      <td>713.135761</td>\n      <td>702.995267</td>\n      <td>544489.029298</td>\n      <td>2.500813e+08</td>\n      <td>1.443431e+08</td>\n      <td>0.049660</td>\n    </tr>\n    <tr>\n      <th>std</th>\n      <td>2.473193e+04</td>\n      <td>8.546395e+07</td>\n      <td>0.0</td>\n      <td>586.138335</td>\n      <td>543.867729</td>\n      <td>651.297752</td>\n      <td>637.507384</td>\n      <td>9.675878</td>\n      <td>4.189227e+07</td>\n      <td>6.221850e+07</td>\n      <td>0.217242</td>\n    </tr>\n    <tr>\n      <th>min</th>\n      <td>1.430158e+09</td>\n      <td>1.000000e+06</td>\n      <td>1.0</td>\n      <td>0.000000</td>\n      <td>0.000000</td>\n      <td>0.000000</td>\n      <td>0.000000</td>\n      <td>544477.000000</td>\n      <td>2.000000e+08</td>\n      <td>-1.000000e+05</td>\n      <td>0.000000</td>\n    </tr>\n    <tr>\n      <th>25%</th>\n      <td>1.430219e+09</td>\n      <td>1.000000e+06</td>\n      <td>1.0</td>\n      <td>294.000000</td>\n      <td>926.000000</td>\n      <td>105.000000</td>\n      <td>0.000000</td>\n      <td>544477.000000</td>\n      <td>2.200000e+08</td>\n      <td>1.020000e+08</td>\n      <td>0.000000</td>\n    </tr>\n    <tr>\n      <th>50%</th>\n      <td>1.430234e+09</td>\n      <td>1.310000e+08</td>\n      <td>1.0</td>\n      <td>926.000000</td>\n      <td>1462.000000</td>\n      <td>439.000000</td>\n      <td>937.000000</td>\n      <td>544489.000000</td>\n      <td>2.200000e+08</td>\n      <td>1.390000e+08</td>\n      <td>0.000000</td>\n    </tr>\n    <tr>\n      <th>75%</th>\n      <td>1.430247e+09</td>\n      <td>1.890000e+08</td>\n      <td>1.0</td>\n      <td>937.000000</td>\n      <td>1462.000000</td>\n      <td>1462.000000</td>\n      <td>1461.000000</td>\n      <td>544501.000000</td>\n      <td>2.800000e+08</td>\n      <td>1.880000e+08</td>\n      <td>0.000000</td>\n    </tr>\n    <tr>\n      <th>max</th>\n      <td>1.430265e+09</td>\n      <td>3.440000e+08</td>\n      <td>1.0</td>\n      <td>5693.000000</td>\n      <td>5711.000000</td>\n      <td>5527.000000</td>\n      <td>5182.000000</td>\n      <td>544501.000000</td>\n      <td>3.600000e+08</td>\n      <td>3.600000e+08</td>\n      <td>1.000000</td>\n    </tr>\n  </tbody>\n</table>\n</div>"
     },
     "metadata": {},
     "execution_count": 20
    }
   ],
   "source": [
    "df_train.describe()"
   ]
  },
  {
   "cell_type": "code",
   "execution_count": 24,
   "metadata": {},
   "outputs": [
    {
     "output_type": "execute_result",
     "data": {
      "text/plain": [
       "Index(['bidid', 'device_id', 'user_id', 'format', 'support_type', 'support_id',\n",
       "       'device_os', 'device_language', 'device_model'],\n",
       "      dtype='object')"
      ]
     },
     "metadata": {},
     "execution_count": 24
    }
   ],
   "source": [
    "categorical_features = df_train.select_dtypes(include =\"object\")\n",
    "categorical_features.columns "
   ]
  },
  {
   "cell_type": "code",
   "execution_count": 23,
   "metadata": {},
   "outputs": [
    {
     "output_type": "execute_result",
     "data": {
      "text/plain": [
       "Index(['bidid', 'device_id', 'user_id', 'format', 'support_type', 'support_id',\n",
       "       'device_os', 'device_language', 'device_model'],\n",
       "      dtype='object')"
      ]
     },
     "metadata": {},
     "execution_count": 23
    }
   ],
   "source": [
    "numerical_feautes = df_train.select_dtypes(exclude=\"object\")\n",
    "categorical_features.columns "
   ]
  },
  {
   "cell_type": "code",
   "execution_count": 25,
   "metadata": {},
   "outputs": [
    {
     "output_type": "execute_result",
     "data": {
      "text/plain": [
       "0    724386\n",
       "1     37853\n",
       "Name: clicked, dtype: int64"
      ]
     },
     "metadata": {},
     "execution_count": 25
    }
   ],
   "source": [
    "# Target variable \n",
    "df_train.clicked.value_counts()"
   ]
  },
  {
   "cell_type": "code",
   "execution_count": 26,
   "metadata": {},
   "outputs": [
    {
     "output_type": "execute_result",
     "data": {
      "text/plain": [
       "    timestamp                     bidid                             device_id  \\\n",
       "0  1430158023  VT56YgANZ5sK24hIAgB7+w==  a2304e2d-dd95-4431-a06e-9b976b83781f   \n",
       "1  1430158024  VT56ZAAAeWMKNCwO6ABg+w==  fdef5b70-64c3-4afa-8e0e-8587bd4887e2   \n",
       "2  1430158024  VT56ZAALt/oKG+GTGwB6sg==  db4cfc36-27f7-4e92-8201-d71d9b4d6cf7   \n",
       "3  1430158024  VT56ZAAMtH0KwmKp4AANng==  e113e09f-1899-4f97-94ac-00e243d8ef70   \n",
       "4  1430158024  VT56ZAAOT5QKfN8IfAAieQ==  96653962-3033-476b-9dff-95d188f52d6d   \n",
       "\n",
       "                       user_id   format   bidfloor support_type support_id  \\\n",
       "0  CAESEJ5yQ9WDEoC_KMd3DzKeKl0  320x480  200000000          app  623367437   \n",
       "1  CAESEJ6WxEBHVaDXLlrXknLTCoA  320x480    1000000          app  353599677   \n",
       "2  CAESEPcNDSPNESnmoWp1Zck6j8A  320x480  199000000          app  911152486   \n",
       "3  CAESELMvW0Vh_8Uwsio5w99n4qk  320x480  190000000          app  911793120   \n",
       "4  CAESEKhcSWjJJHrkM-XAEDNaxgE  320x480  188000000          app  484115113   \n",
       "\n",
       "   device_type device_os device_language device_model  verticals_0  \\\n",
       "0            1       ios           fr_FR       iphone         1494   \n",
       "1            1       ios           tr_TR       iphone          408   \n",
       "2            1       ios           fr_FR         ipod          937   \n",
       "3            1       ios           fr_FR       iphone          937   \n",
       "4            1       ios           fr_FR       iphone           61   \n",
       "\n",
       "   verticals_1  verticals_2  vertical_3   ad_id  bid_price  won_price  clicked  \n",
       "0         1462          105         937  544489  280000000  116000000        0  \n",
       "1         1462         1109          16  544489  280000000  195000000        0  \n",
       "2          926         1462        1536  544489  280000000  241000000        0  \n",
       "3         1462         1536        1461  544489  280000000  137000000        0  \n",
       "4           13          299           0  544489  280000000  188000000        0  "
      ],
      "text/html": "<div>\n<style scoped>\n    .dataframe tbody tr th:only-of-type {\n        vertical-align: middle;\n    }\n\n    .dataframe tbody tr th {\n        vertical-align: top;\n    }\n\n    .dataframe thead th {\n        text-align: right;\n    }\n</style>\n<table border=\"1\" class=\"dataframe\">\n  <thead>\n    <tr style=\"text-align: right;\">\n      <th></th>\n      <th>timestamp</th>\n      <th>bidid</th>\n      <th>device_id</th>\n      <th>user_id</th>\n      <th>format</th>\n      <th>bidfloor</th>\n      <th>support_type</th>\n      <th>support_id</th>\n      <th>device_type</th>\n      <th>device_os</th>\n      <th>device_language</th>\n      <th>device_model</th>\n      <th>verticals_0</th>\n      <th>verticals_1</th>\n      <th>verticals_2</th>\n      <th>vertical_3</th>\n      <th>ad_id</th>\n      <th>bid_price</th>\n      <th>won_price</th>\n      <th>clicked</th>\n    </tr>\n  </thead>\n  <tbody>\n    <tr>\n      <th>0</th>\n      <td>1430158023</td>\n      <td>VT56YgANZ5sK24hIAgB7+w==</td>\n      <td>a2304e2d-dd95-4431-a06e-9b976b83781f</td>\n      <td>CAESEJ5yQ9WDEoC_KMd3DzKeKl0</td>\n      <td>320x480</td>\n      <td>200000000</td>\n      <td>app</td>\n      <td>623367437</td>\n      <td>1</td>\n      <td>ios</td>\n      <td>fr_FR</td>\n      <td>iphone</td>\n      <td>1494</td>\n      <td>1462</td>\n      <td>105</td>\n      <td>937</td>\n      <td>544489</td>\n      <td>280000000</td>\n      <td>116000000</td>\n      <td>0</td>\n    </tr>\n    <tr>\n      <th>1</th>\n      <td>1430158024</td>\n      <td>VT56ZAAAeWMKNCwO6ABg+w==</td>\n      <td>fdef5b70-64c3-4afa-8e0e-8587bd4887e2</td>\n      <td>CAESEJ6WxEBHVaDXLlrXknLTCoA</td>\n      <td>320x480</td>\n      <td>1000000</td>\n      <td>app</td>\n      <td>353599677</td>\n      <td>1</td>\n      <td>ios</td>\n      <td>tr_TR</td>\n      <td>iphone</td>\n      <td>408</td>\n      <td>1462</td>\n      <td>1109</td>\n      <td>16</td>\n      <td>544489</td>\n      <td>280000000</td>\n      <td>195000000</td>\n      <td>0</td>\n    </tr>\n    <tr>\n      <th>2</th>\n      <td>1430158024</td>\n      <td>VT56ZAALt/oKG+GTGwB6sg==</td>\n      <td>db4cfc36-27f7-4e92-8201-d71d9b4d6cf7</td>\n      <td>CAESEPcNDSPNESnmoWp1Zck6j8A</td>\n      <td>320x480</td>\n      <td>199000000</td>\n      <td>app</td>\n      <td>911152486</td>\n      <td>1</td>\n      <td>ios</td>\n      <td>fr_FR</td>\n      <td>ipod</td>\n      <td>937</td>\n      <td>926</td>\n      <td>1462</td>\n      <td>1536</td>\n      <td>544489</td>\n      <td>280000000</td>\n      <td>241000000</td>\n      <td>0</td>\n    </tr>\n    <tr>\n      <th>3</th>\n      <td>1430158024</td>\n      <td>VT56ZAAMtH0KwmKp4AANng==</td>\n      <td>e113e09f-1899-4f97-94ac-00e243d8ef70</td>\n      <td>CAESELMvW0Vh_8Uwsio5w99n4qk</td>\n      <td>320x480</td>\n      <td>190000000</td>\n      <td>app</td>\n      <td>911793120</td>\n      <td>1</td>\n      <td>ios</td>\n      <td>fr_FR</td>\n      <td>iphone</td>\n      <td>937</td>\n      <td>1462</td>\n      <td>1536</td>\n      <td>1461</td>\n      <td>544489</td>\n      <td>280000000</td>\n      <td>137000000</td>\n      <td>0</td>\n    </tr>\n    <tr>\n      <th>4</th>\n      <td>1430158024</td>\n      <td>VT56ZAAOT5QKfN8IfAAieQ==</td>\n      <td>96653962-3033-476b-9dff-95d188f52d6d</td>\n      <td>CAESEKhcSWjJJHrkM-XAEDNaxgE</td>\n      <td>320x480</td>\n      <td>188000000</td>\n      <td>app</td>\n      <td>484115113</td>\n      <td>1</td>\n      <td>ios</td>\n      <td>fr_FR</td>\n      <td>iphone</td>\n      <td>61</td>\n      <td>13</td>\n      <td>299</td>\n      <td>0</td>\n      <td>544489</td>\n      <td>280000000</td>\n      <td>188000000</td>\n      <td>0</td>\n    </tr>\n  </tbody>\n</table>\n</div>"
     },
     "metadata": {},
     "execution_count": 26
    }
   ],
   "source": [
    "df_train.head()"
   ]
  },
  {
   "cell_type": "code",
   "execution_count": 27,
   "metadata": {},
   "outputs": [
    {
     "output_type": "execute_result",
     "data": {
      "text/plain": [
       "app        762130\n",
       "website       109\n",
       "Name: support_type, dtype: int64"
      ]
     },
     "metadata": {},
     "execution_count": 27
    }
   ],
   "source": [
    "df_train.support_type.value_counts()"
   ]
  },
  {
   "cell_type": "code",
   "execution_count": 28,
   "metadata": {},
   "outputs": [
    {
     "output_type": "execute_result",
     "data": {
      "text/plain": [
       "ios    762239\n",
       "Name: device_os, dtype: int64"
      ]
     },
     "metadata": {},
     "execution_count": 28
    }
   ],
   "source": [
    "df_train.device_os.value_counts()"
   ]
  },
  {
   "cell_type": "code",
   "execution_count": 29,
   "metadata": {},
   "outputs": [
    {
     "output_type": "execute_result",
     "data": {
      "text/plain": [
       "fr_FR    729281\n",
       "en_EN     16055\n",
       "tr_TR      6714\n",
       "zh_CN      1409\n",
       "it_IT      1242\n",
       "nl_NL      1000\n",
       "pt_PT       936\n",
       "es_ES       910\n",
       "de_DE       897\n",
       "ru_RU       810\n",
       "ar_AR       679\n",
       "ro_RO       412\n",
       "ja_JA       247\n",
       "pl_PL       208\n",
       "ko_KO       192\n",
       "sv_SV       176\n",
       "th_TH       155\n",
       "no_NO        96\n",
       "zh_TW        94\n",
       "da_DA        93\n",
       "vi_VI        85\n",
       "iw_IW        85\n",
       "co_CO        58\n",
       "hr_HR        52\n",
       "el_EL        52\n",
       "uk_UK        49\n",
       "hy_HY        40\n",
       "bn_BN        39\n",
       "eu_EU        26\n",
       "ta_TA        24\n",
       "hu_HU        17\n",
       "sq_SQ        17\n",
       "ca_CA        13\n",
       "bs_BS        11\n",
       "cs_CS         9\n",
       "km_KM         8\n",
       "fa_FA         8\n",
       "fi_FI         7\n",
       "lo_LO         7\n",
       "ka_KA         5\n",
       "sk_SK         5\n",
       "br_BR         4\n",
       "ne_NE         2\n",
       "mn_MN         2\n",
       "pa_PA         1\n",
       "mg_MG         1\n",
       "la_LA         1\n",
       "ur_UR         1\n",
       "ht_HT         1\n",
       "ln_LN         1\n",
       "id_ID         1\n",
       "yi_YI         1\n",
       "Name: device_language, dtype: int64"
      ]
     },
     "metadata": {},
     "execution_count": 29
    }
   ],
   "source": [
    "df_train.device_language.value_counts()"
   ]
  },
  {
   "cell_type": "code",
   "execution_count": 41,
   "metadata": {},
   "outputs": [
    {
     "output_type": "execute_result",
     "data": {
      "text/plain": [
       "<matplotlib.axes._subplots.AxesSubplot at 0x1e6911e7508>"
      ]
     },
     "metadata": {},
     "execution_count": 41
    },
    {
     "output_type": "display_data",
     "data": {
      "text/plain": "<Figure size 360x360 with 1 Axes>",
      "image/svg+xml": "<?xml version=\"1.0\" encoding=\"utf-8\" standalone=\"no\"?>\r\n<!DOCTYPE svg PUBLIC \"-//W3C//DTD SVG 1.1//EN\"\r\n  \"http://www.w3.org/Graphics/SVG/1.1/DTD/svg11.dtd\">\r\n<!-- Created with matplotlib (https://matplotlib.org/) -->\r\n<svg height=\"302.878125pt\" version=\"1.1\" viewBox=\"0 0 338.575 302.878125\" width=\"338.575pt\" xmlns=\"http://www.w3.org/2000/svg\" xmlns:xlink=\"http://www.w3.org/1999/xlink\">\r\n <defs>\r\n  <style type=\"text/css\">\r\n*{stroke-linecap:butt;stroke-linejoin:round;}\r\n  </style>\r\n </defs>\r\n <g id=\"figure_1\">\r\n  <g id=\"patch_1\">\r\n   <path d=\"M -0 302.878125 \r\nL 338.575 302.878125 \r\nL 338.575 0 \r\nL -0 0 \r\nz\r\n\" style=\"fill:none;\"/>\r\n  </g>\r\n  <g id=\"axes_1\">\r\n   <g id=\"patch_2\">\r\n    <path d=\"M 52.375 279 \r\nL 331.375 279 \r\nL 331.375 7.2 \r\nL 52.375 7.2 \r\nz\r\n\" style=\"fill:#ffffff;\"/>\r\n   </g>\r\n   <g id=\"patch_3\">\r\n    <path clip-path=\"url(#p2f832f13c0)\" d=\"M 87.25 279 \r\nL 157 279 \r\nL 157 20.142857 \r\nL 87.25 20.142857 \r\nz\r\n\" style=\"fill:#1f77b4;\"/>\r\n   </g>\r\n   <g id=\"patch_4\">\r\n    <path clip-path=\"url(#p2f832f13c0)\" d=\"M 226.75 279 \r\nL 296.5 279 \r\nL 296.5 258.994002 \r\nL 226.75 258.994002 \r\nz\r\n\" style=\"fill:#1f77b4;\"/>\r\n   </g>\r\n   <g id=\"matplotlib.axis_1\">\r\n    <g id=\"xtick_1\">\r\n     <g id=\"line2d_1\">\r\n      <defs>\r\n       <path d=\"M 0 0 \r\nL 0 3.5 \r\n\" id=\"ma89953c62b\" style=\"stroke:#000000;stroke-width:0.8;\"/>\r\n      </defs>\r\n      <g>\r\n       <use style=\"stroke:#000000;stroke-width:0.8;\" x=\"122.125\" xlink:href=\"#ma89953c62b\" y=\"279\"/>\r\n      </g>\r\n     </g>\r\n     <g id=\"text_1\">\r\n      <!-- iphone -->\r\n      <defs>\r\n       <path d=\"M 9.421875 54.6875 \r\nL 18.40625 54.6875 \r\nL 18.40625 0 \r\nL 9.421875 0 \r\nz\r\nM 9.421875 75.984375 \r\nL 18.40625 75.984375 \r\nL 18.40625 64.59375 \r\nL 9.421875 64.59375 \r\nz\r\n\" id=\"DejaVuSans-105\"/>\r\n       <path d=\"M 18.109375 8.203125 \r\nL 18.109375 -20.796875 \r\nL 9.078125 -20.796875 \r\nL 9.078125 54.6875 \r\nL 18.109375 54.6875 \r\nL 18.109375 46.390625 \r\nQ 20.953125 51.265625 25.265625 53.625 \r\nQ 29.59375 56 35.59375 56 \r\nQ 45.5625 56 51.78125 48.09375 \r\nQ 58.015625 40.1875 58.015625 27.296875 \r\nQ 58.015625 14.40625 51.78125 6.484375 \r\nQ 45.5625 -1.421875 35.59375 -1.421875 \r\nQ 29.59375 -1.421875 25.265625 0.953125 \r\nQ 20.953125 3.328125 18.109375 8.203125 \r\nz\r\nM 48.6875 27.296875 \r\nQ 48.6875 37.203125 44.609375 42.84375 \r\nQ 40.53125 48.484375 33.40625 48.484375 \r\nQ 26.265625 48.484375 22.1875 42.84375 \r\nQ 18.109375 37.203125 18.109375 27.296875 \r\nQ 18.109375 17.390625 22.1875 11.75 \r\nQ 26.265625 6.109375 33.40625 6.109375 \r\nQ 40.53125 6.109375 44.609375 11.75 \r\nQ 48.6875 17.390625 48.6875 27.296875 \r\nz\r\n\" id=\"DejaVuSans-112\"/>\r\n       <path d=\"M 54.890625 33.015625 \r\nL 54.890625 0 \r\nL 45.90625 0 \r\nL 45.90625 32.71875 \r\nQ 45.90625 40.484375 42.875 44.328125 \r\nQ 39.84375 48.1875 33.796875 48.1875 \r\nQ 26.515625 48.1875 22.3125 43.546875 \r\nQ 18.109375 38.921875 18.109375 30.90625 \r\nL 18.109375 0 \r\nL 9.078125 0 \r\nL 9.078125 75.984375 \r\nL 18.109375 75.984375 \r\nL 18.109375 46.1875 \r\nQ 21.34375 51.125 25.703125 53.5625 \r\nQ 30.078125 56 35.796875 56 \r\nQ 45.21875 56 50.046875 50.171875 \r\nQ 54.890625 44.34375 54.890625 33.015625 \r\nz\r\n\" id=\"DejaVuSans-104\"/>\r\n       <path d=\"M 30.609375 48.390625 \r\nQ 23.390625 48.390625 19.1875 42.75 \r\nQ 14.984375 37.109375 14.984375 27.296875 \r\nQ 14.984375 17.484375 19.15625 11.84375 \r\nQ 23.34375 6.203125 30.609375 6.203125 \r\nQ 37.796875 6.203125 41.984375 11.859375 \r\nQ 46.1875 17.53125 46.1875 27.296875 \r\nQ 46.1875 37.015625 41.984375 42.703125 \r\nQ 37.796875 48.390625 30.609375 48.390625 \r\nz\r\nM 30.609375 56 \r\nQ 42.328125 56 49.015625 48.375 \r\nQ 55.71875 40.765625 55.71875 27.296875 \r\nQ 55.71875 13.875 49.015625 6.21875 \r\nQ 42.328125 -1.421875 30.609375 -1.421875 \r\nQ 18.84375 -1.421875 12.171875 6.21875 \r\nQ 5.515625 13.875 5.515625 27.296875 \r\nQ 5.515625 40.765625 12.171875 48.375 \r\nQ 18.84375 56 30.609375 56 \r\nz\r\n\" id=\"DejaVuSans-111\"/>\r\n       <path d=\"M 54.890625 33.015625 \r\nL 54.890625 0 \r\nL 45.90625 0 \r\nL 45.90625 32.71875 \r\nQ 45.90625 40.484375 42.875 44.328125 \r\nQ 39.84375 48.1875 33.796875 48.1875 \r\nQ 26.515625 48.1875 22.3125 43.546875 \r\nQ 18.109375 38.921875 18.109375 30.90625 \r\nL 18.109375 0 \r\nL 9.078125 0 \r\nL 9.078125 54.6875 \r\nL 18.109375 54.6875 \r\nL 18.109375 46.1875 \r\nQ 21.34375 51.125 25.703125 53.5625 \r\nQ 30.078125 56 35.796875 56 \r\nQ 45.21875 56 50.046875 50.171875 \r\nQ 54.890625 44.34375 54.890625 33.015625 \r\nz\r\n\" id=\"DejaVuSans-110\"/>\r\n       <path d=\"M 56.203125 29.59375 \r\nL 56.203125 25.203125 \r\nL 14.890625 25.203125 \r\nQ 15.484375 15.921875 20.484375 11.0625 \r\nQ 25.484375 6.203125 34.421875 6.203125 \r\nQ 39.59375 6.203125 44.453125 7.46875 \r\nQ 49.3125 8.734375 54.109375 11.28125 \r\nL 54.109375 2.78125 \r\nQ 49.265625 0.734375 44.1875 -0.34375 \r\nQ 39.109375 -1.421875 33.890625 -1.421875 \r\nQ 20.796875 -1.421875 13.15625 6.1875 \r\nQ 5.515625 13.8125 5.515625 26.8125 \r\nQ 5.515625 40.234375 12.765625 48.109375 \r\nQ 20.015625 56 32.328125 56 \r\nQ 43.359375 56 49.78125 48.890625 \r\nQ 56.203125 41.796875 56.203125 29.59375 \r\nz\r\nM 47.21875 32.234375 \r\nQ 47.125 39.59375 43.09375 43.984375 \r\nQ 39.0625 48.390625 32.421875 48.390625 \r\nQ 24.90625 48.390625 20.390625 44.140625 \r\nQ 15.875 39.890625 15.1875 32.171875 \r\nz\r\n\" id=\"DejaVuSans-101\"/>\r\n      </defs>\r\n      <g transform=\"translate(105.088281 293.598437)scale(0.1 -0.1)\">\r\n       <use xlink:href=\"#DejaVuSans-105\"/>\r\n       <use x=\"27.783203\" xlink:href=\"#DejaVuSans-112\"/>\r\n       <use x=\"91.259766\" xlink:href=\"#DejaVuSans-104\"/>\r\n       <use x=\"154.638672\" xlink:href=\"#DejaVuSans-111\"/>\r\n       <use x=\"215.820312\" xlink:href=\"#DejaVuSans-110\"/>\r\n       <use x=\"279.199219\" xlink:href=\"#DejaVuSans-101\"/>\r\n      </g>\r\n     </g>\r\n    </g>\r\n    <g id=\"xtick_2\">\r\n     <g id=\"line2d_2\">\r\n      <g>\r\n       <use style=\"stroke:#000000;stroke-width:0.8;\" x=\"261.625\" xlink:href=\"#ma89953c62b\" y=\"279\"/>\r\n      </g>\r\n     </g>\r\n     <g id=\"text_2\">\r\n      <!-- ipod -->\r\n      <defs>\r\n       <path d=\"M 45.40625 46.390625 \r\nL 45.40625 75.984375 \r\nL 54.390625 75.984375 \r\nL 54.390625 0 \r\nL 45.40625 0 \r\nL 45.40625 8.203125 \r\nQ 42.578125 3.328125 38.25 0.953125 \r\nQ 33.9375 -1.421875 27.875 -1.421875 \r\nQ 17.96875 -1.421875 11.734375 6.484375 \r\nQ 5.515625 14.40625 5.515625 27.296875 \r\nQ 5.515625 40.1875 11.734375 48.09375 \r\nQ 17.96875 56 27.875 56 \r\nQ 33.9375 56 38.25 53.625 \r\nQ 42.578125 51.265625 45.40625 46.390625 \r\nz\r\nM 14.796875 27.296875 \r\nQ 14.796875 17.390625 18.875 11.75 \r\nQ 22.953125 6.109375 30.078125 6.109375 \r\nQ 37.203125 6.109375 41.296875 11.75 \r\nQ 45.40625 17.390625 45.40625 27.296875 \r\nQ 45.40625 37.203125 41.296875 42.84375 \r\nQ 37.203125 48.484375 30.078125 48.484375 \r\nQ 22.953125 48.484375 18.875 42.84375 \r\nQ 14.796875 37.203125 14.796875 27.296875 \r\nz\r\n\" id=\"DejaVuSans-100\"/>\r\n      </defs>\r\n      <g transform=\"translate(250.828125 293.598437)scale(0.1 -0.1)\">\r\n       <use xlink:href=\"#DejaVuSans-105\"/>\r\n       <use x=\"27.783203\" xlink:href=\"#DejaVuSans-112\"/>\r\n       <use x=\"91.259766\" xlink:href=\"#DejaVuSans-111\"/>\r\n       <use x=\"152.441406\" xlink:href=\"#DejaVuSans-100\"/>\r\n      </g>\r\n     </g>\r\n    </g>\r\n   </g>\r\n   <g id=\"matplotlib.axis_2\">\r\n    <g id=\"ytick_1\">\r\n     <g id=\"line2d_3\">\r\n      <defs>\r\n       <path d=\"M 0 0 \r\nL -3.5 0 \r\n\" id=\"ma3810f2db8\" style=\"stroke:#000000;stroke-width:0.8;\"/>\r\n      </defs>\r\n      <g>\r\n       <use style=\"stroke:#000000;stroke-width:0.8;\" x=\"52.375\" xlink:href=\"#ma3810f2db8\" y=\"279\"/>\r\n      </g>\r\n     </g>\r\n     <g id=\"text_3\">\r\n      <!-- 0 -->\r\n      <defs>\r\n       <path d=\"M 31.78125 66.40625 \r\nQ 24.171875 66.40625 20.328125 58.90625 \r\nQ 16.5 51.421875 16.5 36.375 \r\nQ 16.5 21.390625 20.328125 13.890625 \r\nQ 24.171875 6.390625 31.78125 6.390625 \r\nQ 39.453125 6.390625 43.28125 13.890625 \r\nQ 47.125 21.390625 47.125 36.375 \r\nQ 47.125 51.421875 43.28125 58.90625 \r\nQ 39.453125 66.40625 31.78125 66.40625 \r\nz\r\nM 31.78125 74.21875 \r\nQ 44.046875 74.21875 50.515625 64.515625 \r\nQ 56.984375 54.828125 56.984375 36.375 \r\nQ 56.984375 17.96875 50.515625 8.265625 \r\nQ 44.046875 -1.421875 31.78125 -1.421875 \r\nQ 19.53125 -1.421875 13.0625 8.265625 \r\nQ 6.59375 17.96875 6.59375 36.375 \r\nQ 6.59375 54.828125 13.0625 64.515625 \r\nQ 19.53125 74.21875 31.78125 74.21875 \r\nz\r\n\" id=\"DejaVuSans-48\"/>\r\n      </defs>\r\n      <g transform=\"translate(39.0125 282.799219)scale(0.1 -0.1)\">\r\n       <use xlink:href=\"#DejaVuSans-48\"/>\r\n      </g>\r\n     </g>\r\n    </g>\r\n    <g id=\"ytick_2\">\r\n     <g id=\"line2d_4\">\r\n      <g>\r\n       <use style=\"stroke:#000000;stroke-width:0.8;\" x=\"52.375\" xlink:href=\"#ma3810f2db8\" y=\"242.415262\"/>\r\n      </g>\r\n     </g>\r\n     <g id=\"text_4\">\r\n      <!-- 100000 -->\r\n      <defs>\r\n       <path d=\"M 12.40625 8.296875 \r\nL 28.515625 8.296875 \r\nL 28.515625 63.921875 \r\nL 10.984375 60.40625 \r\nL 10.984375 69.390625 \r\nL 28.421875 72.90625 \r\nL 38.28125 72.90625 \r\nL 38.28125 8.296875 \r\nL 54.390625 8.296875 \r\nL 54.390625 0 \r\nL 12.40625 0 \r\nz\r\n\" id=\"DejaVuSans-49\"/>\r\n      </defs>\r\n      <g transform=\"translate(7.2 246.214481)scale(0.1 -0.1)\">\r\n       <use xlink:href=\"#DejaVuSans-49\"/>\r\n       <use x=\"63.623047\" xlink:href=\"#DejaVuSans-48\"/>\r\n       <use x=\"127.246094\" xlink:href=\"#DejaVuSans-48\"/>\r\n       <use x=\"190.869141\" xlink:href=\"#DejaVuSans-48\"/>\r\n       <use x=\"254.492188\" xlink:href=\"#DejaVuSans-48\"/>\r\n       <use x=\"318.115234\" xlink:href=\"#DejaVuSans-48\"/>\r\n      </g>\r\n     </g>\r\n    </g>\r\n    <g id=\"ytick_3\">\r\n     <g id=\"line2d_5\">\r\n      <g>\r\n       <use style=\"stroke:#000000;stroke-width:0.8;\" x=\"52.375\" xlink:href=\"#ma3810f2db8\" y=\"205.830524\"/>\r\n      </g>\r\n     </g>\r\n     <g id=\"text_5\">\r\n      <!-- 200000 -->\r\n      <defs>\r\n       <path d=\"M 19.1875 8.296875 \r\nL 53.609375 8.296875 \r\nL 53.609375 0 \r\nL 7.328125 0 \r\nL 7.328125 8.296875 \r\nQ 12.9375 14.109375 22.625 23.890625 \r\nQ 32.328125 33.6875 34.8125 36.53125 \r\nQ 39.546875 41.84375 41.421875 45.53125 \r\nQ 43.3125 49.21875 43.3125 52.78125 \r\nQ 43.3125 58.59375 39.234375 62.25 \r\nQ 35.15625 65.921875 28.609375 65.921875 \r\nQ 23.96875 65.921875 18.8125 64.3125 \r\nQ 13.671875 62.703125 7.8125 59.421875 \r\nL 7.8125 69.390625 \r\nQ 13.765625 71.78125 18.9375 73 \r\nQ 24.125 74.21875 28.421875 74.21875 \r\nQ 39.75 74.21875 46.484375 68.546875 \r\nQ 53.21875 62.890625 53.21875 53.421875 \r\nQ 53.21875 48.921875 51.53125 44.890625 \r\nQ 49.859375 40.875 45.40625 35.40625 \r\nQ 44.1875 33.984375 37.640625 27.21875 \r\nQ 31.109375 20.453125 19.1875 8.296875 \r\nz\r\n\" id=\"DejaVuSans-50\"/>\r\n      </defs>\r\n      <g transform=\"translate(7.2 209.629743)scale(0.1 -0.1)\">\r\n       <use xlink:href=\"#DejaVuSans-50\"/>\r\n       <use x=\"63.623047\" xlink:href=\"#DejaVuSans-48\"/>\r\n       <use x=\"127.246094\" xlink:href=\"#DejaVuSans-48\"/>\r\n       <use x=\"190.869141\" xlink:href=\"#DejaVuSans-48\"/>\r\n       <use x=\"254.492188\" xlink:href=\"#DejaVuSans-48\"/>\r\n       <use x=\"318.115234\" xlink:href=\"#DejaVuSans-48\"/>\r\n      </g>\r\n     </g>\r\n    </g>\r\n    <g id=\"ytick_4\">\r\n     <g id=\"line2d_6\">\r\n      <g>\r\n       <use style=\"stroke:#000000;stroke-width:0.8;\" x=\"52.375\" xlink:href=\"#ma3810f2db8\" y=\"169.245786\"/>\r\n      </g>\r\n     </g>\r\n     <g id=\"text_6\">\r\n      <!-- 300000 -->\r\n      <defs>\r\n       <path d=\"M 40.578125 39.3125 \r\nQ 47.65625 37.796875 51.625 33 \r\nQ 55.609375 28.21875 55.609375 21.1875 \r\nQ 55.609375 10.40625 48.1875 4.484375 \r\nQ 40.765625 -1.421875 27.09375 -1.421875 \r\nQ 22.515625 -1.421875 17.65625 -0.515625 \r\nQ 12.796875 0.390625 7.625 2.203125 \r\nL 7.625 11.71875 \r\nQ 11.71875 9.328125 16.59375 8.109375 \r\nQ 21.484375 6.890625 26.8125 6.890625 \r\nQ 36.078125 6.890625 40.9375 10.546875 \r\nQ 45.796875 14.203125 45.796875 21.1875 \r\nQ 45.796875 27.640625 41.28125 31.265625 \r\nQ 36.765625 34.90625 28.71875 34.90625 \r\nL 20.21875 34.90625 \r\nL 20.21875 43.015625 \r\nL 29.109375 43.015625 \r\nQ 36.375 43.015625 40.234375 45.921875 \r\nQ 44.09375 48.828125 44.09375 54.296875 \r\nQ 44.09375 59.90625 40.109375 62.90625 \r\nQ 36.140625 65.921875 28.71875 65.921875 \r\nQ 24.65625 65.921875 20.015625 65.03125 \r\nQ 15.375 64.15625 9.8125 62.3125 \r\nL 9.8125 71.09375 \r\nQ 15.4375 72.65625 20.34375 73.4375 \r\nQ 25.25 74.21875 29.59375 74.21875 \r\nQ 40.828125 74.21875 47.359375 69.109375 \r\nQ 53.90625 64.015625 53.90625 55.328125 \r\nQ 53.90625 49.265625 50.4375 45.09375 \r\nQ 46.96875 40.921875 40.578125 39.3125 \r\nz\r\n\" id=\"DejaVuSans-51\"/>\r\n      </defs>\r\n      <g transform=\"translate(7.2 173.045005)scale(0.1 -0.1)\">\r\n       <use xlink:href=\"#DejaVuSans-51\"/>\r\n       <use x=\"63.623047\" xlink:href=\"#DejaVuSans-48\"/>\r\n       <use x=\"127.246094\" xlink:href=\"#DejaVuSans-48\"/>\r\n       <use x=\"190.869141\" xlink:href=\"#DejaVuSans-48\"/>\r\n       <use x=\"254.492188\" xlink:href=\"#DejaVuSans-48\"/>\r\n       <use x=\"318.115234\" xlink:href=\"#DejaVuSans-48\"/>\r\n      </g>\r\n     </g>\r\n    </g>\r\n    <g id=\"ytick_5\">\r\n     <g id=\"line2d_7\">\r\n      <g>\r\n       <use style=\"stroke:#000000;stroke-width:0.8;\" x=\"52.375\" xlink:href=\"#ma3810f2db8\" y=\"132.661048\"/>\r\n      </g>\r\n     </g>\r\n     <g id=\"text_7\">\r\n      <!-- 400000 -->\r\n      <defs>\r\n       <path d=\"M 37.796875 64.3125 \r\nL 12.890625 25.390625 \r\nL 37.796875 25.390625 \r\nz\r\nM 35.203125 72.90625 \r\nL 47.609375 72.90625 \r\nL 47.609375 25.390625 \r\nL 58.015625 25.390625 \r\nL 58.015625 17.1875 \r\nL 47.609375 17.1875 \r\nL 47.609375 0 \r\nL 37.796875 0 \r\nL 37.796875 17.1875 \r\nL 4.890625 17.1875 \r\nL 4.890625 26.703125 \r\nz\r\n\" id=\"DejaVuSans-52\"/>\r\n      </defs>\r\n      <g transform=\"translate(7.2 136.460267)scale(0.1 -0.1)\">\r\n       <use xlink:href=\"#DejaVuSans-52\"/>\r\n       <use x=\"63.623047\" xlink:href=\"#DejaVuSans-48\"/>\r\n       <use x=\"127.246094\" xlink:href=\"#DejaVuSans-48\"/>\r\n       <use x=\"190.869141\" xlink:href=\"#DejaVuSans-48\"/>\r\n       <use x=\"254.492188\" xlink:href=\"#DejaVuSans-48\"/>\r\n       <use x=\"318.115234\" xlink:href=\"#DejaVuSans-48\"/>\r\n      </g>\r\n     </g>\r\n    </g>\r\n    <g id=\"ytick_6\">\r\n     <g id=\"line2d_8\">\r\n      <g>\r\n       <use style=\"stroke:#000000;stroke-width:0.8;\" x=\"52.375\" xlink:href=\"#ma3810f2db8\" y=\"96.07631\"/>\r\n      </g>\r\n     </g>\r\n     <g id=\"text_8\">\r\n      <!-- 500000 -->\r\n      <defs>\r\n       <path d=\"M 10.796875 72.90625 \r\nL 49.515625 72.90625 \r\nL 49.515625 64.59375 \r\nL 19.828125 64.59375 \r\nL 19.828125 46.734375 \r\nQ 21.96875 47.46875 24.109375 47.828125 \r\nQ 26.265625 48.1875 28.421875 48.1875 \r\nQ 40.625 48.1875 47.75 41.5 \r\nQ 54.890625 34.8125 54.890625 23.390625 \r\nQ 54.890625 11.625 47.5625 5.09375 \r\nQ 40.234375 -1.421875 26.90625 -1.421875 \r\nQ 22.3125 -1.421875 17.546875 -0.640625 \r\nQ 12.796875 0.140625 7.71875 1.703125 \r\nL 7.71875 11.625 \r\nQ 12.109375 9.234375 16.796875 8.0625 \r\nQ 21.484375 6.890625 26.703125 6.890625 \r\nQ 35.15625 6.890625 40.078125 11.328125 \r\nQ 45.015625 15.765625 45.015625 23.390625 \r\nQ 45.015625 31 40.078125 35.4375 \r\nQ 35.15625 39.890625 26.703125 39.890625 \r\nQ 22.75 39.890625 18.8125 39.015625 \r\nQ 14.890625 38.140625 10.796875 36.28125 \r\nz\r\n\" id=\"DejaVuSans-53\"/>\r\n      </defs>\r\n      <g transform=\"translate(7.2 99.875529)scale(0.1 -0.1)\">\r\n       <use xlink:href=\"#DejaVuSans-53\"/>\r\n       <use x=\"63.623047\" xlink:href=\"#DejaVuSans-48\"/>\r\n       <use x=\"127.246094\" xlink:href=\"#DejaVuSans-48\"/>\r\n       <use x=\"190.869141\" xlink:href=\"#DejaVuSans-48\"/>\r\n       <use x=\"254.492188\" xlink:href=\"#DejaVuSans-48\"/>\r\n       <use x=\"318.115234\" xlink:href=\"#DejaVuSans-48\"/>\r\n      </g>\r\n     </g>\r\n    </g>\r\n    <g id=\"ytick_7\">\r\n     <g id=\"line2d_9\">\r\n      <g>\r\n       <use style=\"stroke:#000000;stroke-width:0.8;\" x=\"52.375\" xlink:href=\"#ma3810f2db8\" y=\"59.491572\"/>\r\n      </g>\r\n     </g>\r\n     <g id=\"text_9\">\r\n      <!-- 600000 -->\r\n      <defs>\r\n       <path d=\"M 33.015625 40.375 \r\nQ 26.375 40.375 22.484375 35.828125 \r\nQ 18.609375 31.296875 18.609375 23.390625 \r\nQ 18.609375 15.53125 22.484375 10.953125 \r\nQ 26.375 6.390625 33.015625 6.390625 \r\nQ 39.65625 6.390625 43.53125 10.953125 \r\nQ 47.40625 15.53125 47.40625 23.390625 \r\nQ 47.40625 31.296875 43.53125 35.828125 \r\nQ 39.65625 40.375 33.015625 40.375 \r\nz\r\nM 52.59375 71.296875 \r\nL 52.59375 62.3125 \r\nQ 48.875 64.0625 45.09375 64.984375 \r\nQ 41.3125 65.921875 37.59375 65.921875 \r\nQ 27.828125 65.921875 22.671875 59.328125 \r\nQ 17.53125 52.734375 16.796875 39.40625 \r\nQ 19.671875 43.65625 24.015625 45.921875 \r\nQ 28.375 48.1875 33.59375 48.1875 \r\nQ 44.578125 48.1875 50.953125 41.515625 \r\nQ 57.328125 34.859375 57.328125 23.390625 \r\nQ 57.328125 12.15625 50.6875 5.359375 \r\nQ 44.046875 -1.421875 33.015625 -1.421875 \r\nQ 20.359375 -1.421875 13.671875 8.265625 \r\nQ 6.984375 17.96875 6.984375 36.375 \r\nQ 6.984375 53.65625 15.1875 63.9375 \r\nQ 23.390625 74.21875 37.203125 74.21875 \r\nQ 40.921875 74.21875 44.703125 73.484375 \r\nQ 48.484375 72.75 52.59375 71.296875 \r\nz\r\n\" id=\"DejaVuSans-54\"/>\r\n      </defs>\r\n      <g transform=\"translate(7.2 63.290791)scale(0.1 -0.1)\">\r\n       <use xlink:href=\"#DejaVuSans-54\"/>\r\n       <use x=\"63.623047\" xlink:href=\"#DejaVuSans-48\"/>\r\n       <use x=\"127.246094\" xlink:href=\"#DejaVuSans-48\"/>\r\n       <use x=\"190.869141\" xlink:href=\"#DejaVuSans-48\"/>\r\n       <use x=\"254.492188\" xlink:href=\"#DejaVuSans-48\"/>\r\n       <use x=\"318.115234\" xlink:href=\"#DejaVuSans-48\"/>\r\n      </g>\r\n     </g>\r\n    </g>\r\n    <g id=\"ytick_8\">\r\n     <g id=\"line2d_10\">\r\n      <g>\r\n       <use style=\"stroke:#000000;stroke-width:0.8;\" x=\"52.375\" xlink:href=\"#ma3810f2db8\" y=\"22.906834\"/>\r\n      </g>\r\n     </g>\r\n     <g id=\"text_10\">\r\n      <!-- 700000 -->\r\n      <defs>\r\n       <path d=\"M 8.203125 72.90625 \r\nL 55.078125 72.90625 \r\nL 55.078125 68.703125 \r\nL 28.609375 0 \r\nL 18.3125 0 \r\nL 43.21875 64.59375 \r\nL 8.203125 64.59375 \r\nz\r\n\" id=\"DejaVuSans-55\"/>\r\n      </defs>\r\n      <g transform=\"translate(7.2 26.706053)scale(0.1 -0.1)\">\r\n       <use xlink:href=\"#DejaVuSans-55\"/>\r\n       <use x=\"63.623047\" xlink:href=\"#DejaVuSans-48\"/>\r\n       <use x=\"127.246094\" xlink:href=\"#DejaVuSans-48\"/>\r\n       <use x=\"190.869141\" xlink:href=\"#DejaVuSans-48\"/>\r\n       <use x=\"254.492188\" xlink:href=\"#DejaVuSans-48\"/>\r\n       <use x=\"318.115234\" xlink:href=\"#DejaVuSans-48\"/>\r\n      </g>\r\n     </g>\r\n    </g>\r\n   </g>\r\n   <g id=\"patch_5\">\r\n    <path d=\"M 52.375 279 \r\nL 52.375 7.2 \r\n\" style=\"fill:none;stroke:#000000;stroke-linecap:square;stroke-linejoin:miter;stroke-width:0.8;\"/>\r\n   </g>\r\n   <g id=\"patch_6\">\r\n    <path d=\"M 331.375 279 \r\nL 331.375 7.2 \r\n\" style=\"fill:none;stroke:#000000;stroke-linecap:square;stroke-linejoin:miter;stroke-width:0.8;\"/>\r\n   </g>\r\n   <g id=\"patch_7\">\r\n    <path d=\"M 52.375 279 \r\nL 331.375 279 \r\n\" style=\"fill:none;stroke:#000000;stroke-linecap:square;stroke-linejoin:miter;stroke-width:0.8;\"/>\r\n   </g>\r\n   <g id=\"patch_8\">\r\n    <path d=\"M 52.375 7.2 \r\nL 331.375 7.2 \r\n\" style=\"fill:none;stroke:#000000;stroke-linecap:square;stroke-linejoin:miter;stroke-width:0.8;\"/>\r\n   </g>\r\n  </g>\r\n </g>\r\n <defs>\r\n  <clipPath id=\"p2f832f13c0\">\r\n   <rect height=\"271.8\" width=\"279\" x=\"52.375\" y=\"7.2\"/>\r\n  </clipPath>\r\n </defs>\r\n</svg>\r\n",
      "image/png": "[encoded data removed]"
     },
     "metadata": {
      "needs_background": "light"
     }
    }
   ],
   "source": [
    "plt.figure(figsize = (5,5))\n",
    "df_train.device_model.value_counts().plot(kind= \"bar\",rot = 0)"
   ]
  },
  {
   "cell_type": "code",
   "execution_count": null,
   "metadata": {},
   "outputs": [],
   "source": []
  }
 ]
}